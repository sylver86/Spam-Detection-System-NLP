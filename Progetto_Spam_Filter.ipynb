{
  "cells": [
    {
      "cell_type": "markdown",
      "metadata": {
        "id": "view-in-github",
        "colab_type": "text"
      },
      "source": [
        "<a href=\"https://colab.research.google.com/github/sylver86/Spam-Detection-System-NLP/blob/main/Progetto_Spam_Filter.ipynb\" target=\"_parent\"><img src=\"https://colab.research.google.com/assets/colab-badge.svg\" alt=\"Open In Colab\"/></a>"
      ]
    },
    {
      "cell_type": "markdown",
      "id": "ae817f75-5cc5-4e0c-b154-59a0f6eeb93e",
      "metadata": {
        "id": "ae817f75-5cc5-4e0c-b154-59a0f6eeb93e"
      },
      "source": [
        "# Progetto : Sistema di Spam Detection"
      ]
    },
    {
      "cell_type": "markdown",
      "id": "9fde595f-a921-4c27-9f21-b24041c25909",
      "metadata": {
        "id": "9fde595f-a921-4c27-9f21-b24041c25909"
      },
      "source": [
        "## Panoramica del Progetto\n",
        "\n",
        "L'obiettivo di questo progetto è creare uno strumento capace di analizzare le email ricevute. Lo strumento NLP fornirà funzionalità per classificare le email come SPAM o NON SPAM, identificare i principali argomenti tra le email SPAM, calcolare la distanza semantica tra questi argomenti ed estrarre le organizzazioni menzionate nelle email NON SPAM.\n",
        "\n",
        "### Obiettivi\n",
        "\n",
        "1. **Addestrare un Classificatore per Identificare le Email SPAM**\n",
        "   - Utilizzare il dataset fornito per addestrare un modello di machine learning in grado di classificare accuratamente le email come SPAM o NON SPAM.\n",
        "   - Valutare le prestazioni del classificatore utilizzando metriche standard come accuratezza, precisione, recall e F1-score.\n",
        "\n",
        "2. **Individuare i Principali Argomenti tra le Email SPAM**\n",
        "   - Effettuare il topic modeling sulle email SPAM per scoprire i principali temi o argomenti presenti.\n",
        "   - Utilizzare tecniche come la Latent Dirichlet Allocation (LDA) per l'estrazione degli argomenti.\n",
        "\n",
        "3. **Calcolare la Distanza Semantica tra gli Argomenti**\n",
        "   - Misurare la distanza semantica tra gli argomenti individuati per comprendere l'eterogeneità degli stessi.\n",
        "   - Applicare metriche come la Similarità Coseno per valutare la differenza tra i temi.\n",
        "\n",
        "4. **Estrarre le Organizzazioni dalle Email NON SPAM**\n",
        "   - Utilizzare tecniche di Named Entity Recognition (NER) per identificare e estrarre i nomi delle organizzazioni menzionate nelle email NON SPAM.\n",
        "\n",
        "### Struttura del Progetto\n",
        "\n",
        "1. **Preprocessing dei Dati**\n",
        "   - Pulizia del dataset e preparazione dei dati per il training del modello.\n",
        "   - Normalizzazione del testo, rimozione di stop words, tokenizzazione e lemmatizzazione.\n",
        "\n",
        "2. **Addestramento del Classificatore**\n",
        "   - Sperimentazione con diversi algoritmi di machine learning (es. Naive Bayes, Support Vector Machines, o reti neurali).\n",
        "   - Valutazione del modello migliore.\n",
        "\n",
        "3. **Topic Modeling**\n",
        "   - Applicazione di LDA per identificare i principali argomenti nelle email SPAM.\n",
        "   - Interpretazione dei risultati e visualizzazione degli argomenti.\n",
        "\n",
        "4. **Calcolo della Distanza Semantica**\n",
        "   - Implementazione di metodi per calcolare la distanza semantica tra i vari argomenti.\n",
        "\n",
        "5. **Named Entity Recognition**\n",
        "   - Utilizzo di librerie come spaCy o NLTK per estrarre le organizzazioni dalle email NON SPAM.\n"
      ]
    },
    {
      "cell_type": "markdown",
      "id": "109434eb-8a7a-40b7-9be3-231ed14a7146",
      "metadata": {
        "id": "109434eb-8a7a-40b7-9be3-231ed14a7146"
      },
      "source": [
        "## Preprocessing dei Dati"
      ]
    },
    {
      "cell_type": "markdown",
      "id": "06e8b442-d92a-4ad5-a16b-12dfe4a32cca",
      "metadata": {
        "id": "06e8b442-d92a-4ad5-a16b-12dfe4a32cca"
      },
      "source": [
        "Iniziamo a esaminare il dataset per avviare le procedure di pre-elaborazione dei dati."
      ]
    },
    {
      "cell_type": "code",
      "execution_count": 28,
      "id": "0669e160-69b2-4b23-8262-e4c348cb0110",
      "metadata": {
        "colab": {
          "base_uri": "https://localhost:8080/",
          "height": 459
        },
        "id": "0669e160-69b2-4b23-8262-e4c348cb0110",
        "outputId": "bf5dc089-77ed-4d19-af1f-b3d908cd3ee7"
      },
      "outputs": [
        {
          "output_type": "stream",
          "name": "stderr",
          "text": [
            "[nltk_data] Downloading package stopwords to /root/nltk_data...\n",
            "[nltk_data]   Package stopwords is already up-to-date!\n"
          ]
        },
        {
          "output_type": "execute_result",
          "data": {
            "text/plain": [
              "      Unnamed: 0 label                                               text  \\\n",
              "0            605   ham  Subject: enron methanol ; meter # : 988291\\nth...   \n",
              "1           2349   ham  Subject: hpl nom for january 9 , 2001\\n( see a...   \n",
              "2           3624   ham  Subject: neon retreat\\nho ho ho , we ' re arou...   \n",
              "3           4685  spam  Subject: photoshop , windows , office . cheap ...   \n",
              "4           2030   ham  Subject: re : indian springs\\nthis deal is to ...   \n",
              "...          ...   ...                                                ...   \n",
              "5166        1518   ham  Subject: put the 10 on the ft\\nthe transport v...   \n",
              "5167         404   ham  Subject: 3 / 4 / 2000 and following noms\\nhpl ...   \n",
              "5168        2933   ham  Subject: calpine daily gas nomination\\n>\\n>\\nj...   \n",
              "5169        1409   ham  Subject: industrial worksheets for august 2000...   \n",
              "5170        4807  spam  Subject: important online banking alert\\ndear ...   \n",
              "\n",
              "      label_num  \n",
              "0             0  \n",
              "1             0  \n",
              "2             0  \n",
              "3             1  \n",
              "4             0  \n",
              "...         ...  \n",
              "5166          0  \n",
              "5167          0  \n",
              "5168          0  \n",
              "5169          0  \n",
              "5170          1  \n",
              "\n",
              "[5171 rows x 4 columns]"
            ],
            "text/html": [
              "\n",
              "  <div id=\"df-0457186a-3fc2-45b0-999d-49e252a792df\" class=\"colab-df-container\">\n",
              "    <div>\n",
              "<style scoped>\n",
              "    .dataframe tbody tr th:only-of-type {\n",
              "        vertical-align: middle;\n",
              "    }\n",
              "\n",
              "    .dataframe tbody tr th {\n",
              "        vertical-align: top;\n",
              "    }\n",
              "\n",
              "    .dataframe thead th {\n",
              "        text-align: right;\n",
              "    }\n",
              "</style>\n",
              "<table border=\"1\" class=\"dataframe\">\n",
              "  <thead>\n",
              "    <tr style=\"text-align: right;\">\n",
              "      <th></th>\n",
              "      <th>Unnamed: 0</th>\n",
              "      <th>label</th>\n",
              "      <th>text</th>\n",
              "      <th>label_num</th>\n",
              "    </tr>\n",
              "  </thead>\n",
              "  <tbody>\n",
              "    <tr>\n",
              "      <th>0</th>\n",
              "      <td>605</td>\n",
              "      <td>ham</td>\n",
              "      <td>Subject: enron methanol ; meter # : 988291\\nth...</td>\n",
              "      <td>0</td>\n",
              "    </tr>\n",
              "    <tr>\n",
              "      <th>1</th>\n",
              "      <td>2349</td>\n",
              "      <td>ham</td>\n",
              "      <td>Subject: hpl nom for january 9 , 2001\\n( see a...</td>\n",
              "      <td>0</td>\n",
              "    </tr>\n",
              "    <tr>\n",
              "      <th>2</th>\n",
              "      <td>3624</td>\n",
              "      <td>ham</td>\n",
              "      <td>Subject: neon retreat\\nho ho ho , we ' re arou...</td>\n",
              "      <td>0</td>\n",
              "    </tr>\n",
              "    <tr>\n",
              "      <th>3</th>\n",
              "      <td>4685</td>\n",
              "      <td>spam</td>\n",
              "      <td>Subject: photoshop , windows , office . cheap ...</td>\n",
              "      <td>1</td>\n",
              "    </tr>\n",
              "    <tr>\n",
              "      <th>4</th>\n",
              "      <td>2030</td>\n",
              "      <td>ham</td>\n",
              "      <td>Subject: re : indian springs\\nthis deal is to ...</td>\n",
              "      <td>0</td>\n",
              "    </tr>\n",
              "    <tr>\n",
              "      <th>...</th>\n",
              "      <td>...</td>\n",
              "      <td>...</td>\n",
              "      <td>...</td>\n",
              "      <td>...</td>\n",
              "    </tr>\n",
              "    <tr>\n",
              "      <th>5166</th>\n",
              "      <td>1518</td>\n",
              "      <td>ham</td>\n",
              "      <td>Subject: put the 10 on the ft\\nthe transport v...</td>\n",
              "      <td>0</td>\n",
              "    </tr>\n",
              "    <tr>\n",
              "      <th>5167</th>\n",
              "      <td>404</td>\n",
              "      <td>ham</td>\n",
              "      <td>Subject: 3 / 4 / 2000 and following noms\\nhpl ...</td>\n",
              "      <td>0</td>\n",
              "    </tr>\n",
              "    <tr>\n",
              "      <th>5168</th>\n",
              "      <td>2933</td>\n",
              "      <td>ham</td>\n",
              "      <td>Subject: calpine daily gas nomination\\n&gt;\\n&gt;\\nj...</td>\n",
              "      <td>0</td>\n",
              "    </tr>\n",
              "    <tr>\n",
              "      <th>5169</th>\n",
              "      <td>1409</td>\n",
              "      <td>ham</td>\n",
              "      <td>Subject: industrial worksheets for august 2000...</td>\n",
              "      <td>0</td>\n",
              "    </tr>\n",
              "    <tr>\n",
              "      <th>5170</th>\n",
              "      <td>4807</td>\n",
              "      <td>spam</td>\n",
              "      <td>Subject: important online banking alert\\ndear ...</td>\n",
              "      <td>1</td>\n",
              "    </tr>\n",
              "  </tbody>\n",
              "</table>\n",
              "<p>5171 rows × 4 columns</p>\n",
              "</div>\n",
              "    <div class=\"colab-df-buttons\">\n",
              "\n",
              "  <div class=\"colab-df-container\">\n",
              "    <button class=\"colab-df-convert\" onclick=\"convertToInteractive('df-0457186a-3fc2-45b0-999d-49e252a792df')\"\n",
              "            title=\"Convert this dataframe to an interactive table.\"\n",
              "            style=\"display:none;\">\n",
              "\n",
              "  <svg xmlns=\"http://www.w3.org/2000/svg\" height=\"24px\" viewBox=\"0 -960 960 960\">\n",
              "    <path d=\"M120-120v-720h720v720H120Zm60-500h600v-160H180v160Zm220 220h160v-160H400v160Zm0 220h160v-160H400v160ZM180-400h160v-160H180v160Zm440 0h160v-160H620v160ZM180-180h160v-160H180v160Zm440 0h160v-160H620v160Z\"/>\n",
              "  </svg>\n",
              "    </button>\n",
              "\n",
              "  <style>\n",
              "    .colab-df-container {\n",
              "      display:flex;\n",
              "      gap: 12px;\n",
              "    }\n",
              "\n",
              "    .colab-df-convert {\n",
              "      background-color: #E8F0FE;\n",
              "      border: none;\n",
              "      border-radius: 50%;\n",
              "      cursor: pointer;\n",
              "      display: none;\n",
              "      fill: #1967D2;\n",
              "      height: 32px;\n",
              "      padding: 0 0 0 0;\n",
              "      width: 32px;\n",
              "    }\n",
              "\n",
              "    .colab-df-convert:hover {\n",
              "      background-color: #E2EBFA;\n",
              "      box-shadow: 0px 1px 2px rgba(60, 64, 67, 0.3), 0px 1px 3px 1px rgba(60, 64, 67, 0.15);\n",
              "      fill: #174EA6;\n",
              "    }\n",
              "\n",
              "    .colab-df-buttons div {\n",
              "      margin-bottom: 4px;\n",
              "    }\n",
              "\n",
              "    [theme=dark] .colab-df-convert {\n",
              "      background-color: #3B4455;\n",
              "      fill: #D2E3FC;\n",
              "    }\n",
              "\n",
              "    [theme=dark] .colab-df-convert:hover {\n",
              "      background-color: #434B5C;\n",
              "      box-shadow: 0px 1px 3px 1px rgba(0, 0, 0, 0.15);\n",
              "      filter: drop-shadow(0px 1px 2px rgba(0, 0, 0, 0.3));\n",
              "      fill: #FFFFFF;\n",
              "    }\n",
              "  </style>\n",
              "\n",
              "    <script>\n",
              "      const buttonEl =\n",
              "        document.querySelector('#df-0457186a-3fc2-45b0-999d-49e252a792df button.colab-df-convert');\n",
              "      buttonEl.style.display =\n",
              "        google.colab.kernel.accessAllowed ? 'block' : 'none';\n",
              "\n",
              "      async function convertToInteractive(key) {\n",
              "        const element = document.querySelector('#df-0457186a-3fc2-45b0-999d-49e252a792df');\n",
              "        const dataTable =\n",
              "          await google.colab.kernel.invokeFunction('convertToInteractive',\n",
              "                                                    [key], {});\n",
              "        if (!dataTable) return;\n",
              "\n",
              "        const docLinkHtml = 'Like what you see? Visit the ' +\n",
              "          '<a target=\"_blank\" href=https://colab.research.google.com/notebooks/data_table.ipynb>data table notebook</a>'\n",
              "          + ' to learn more about interactive tables.';\n",
              "        element.innerHTML = '';\n",
              "        dataTable['output_type'] = 'display_data';\n",
              "        await google.colab.output.renderOutput(dataTable, element);\n",
              "        const docLink = document.createElement('div');\n",
              "        docLink.innerHTML = docLinkHtml;\n",
              "        element.appendChild(docLink);\n",
              "      }\n",
              "    </script>\n",
              "  </div>\n",
              "\n",
              "\n",
              "<div id=\"df-fe6fc76d-0f0f-4bdc-af78-7902139c342e\">\n",
              "  <button class=\"colab-df-quickchart\" onclick=\"quickchart('df-fe6fc76d-0f0f-4bdc-af78-7902139c342e')\"\n",
              "            title=\"Suggest charts\"\n",
              "            style=\"display:none;\">\n",
              "\n",
              "<svg xmlns=\"http://www.w3.org/2000/svg\" height=\"24px\"viewBox=\"0 0 24 24\"\n",
              "     width=\"24px\">\n",
              "    <g>\n",
              "        <path d=\"M19 3H5c-1.1 0-2 .9-2 2v14c0 1.1.9 2 2 2h14c1.1 0 2-.9 2-2V5c0-1.1-.9-2-2-2zM9 17H7v-7h2v7zm4 0h-2V7h2v10zm4 0h-2v-4h2v4z\"/>\n",
              "    </g>\n",
              "</svg>\n",
              "  </button>\n",
              "\n",
              "<style>\n",
              "  .colab-df-quickchart {\n",
              "      --bg-color: #E8F0FE;\n",
              "      --fill-color: #1967D2;\n",
              "      --hover-bg-color: #E2EBFA;\n",
              "      --hover-fill-color: #174EA6;\n",
              "      --disabled-fill-color: #AAA;\n",
              "      --disabled-bg-color: #DDD;\n",
              "  }\n",
              "\n",
              "  [theme=dark] .colab-df-quickchart {\n",
              "      --bg-color: #3B4455;\n",
              "      --fill-color: #D2E3FC;\n",
              "      --hover-bg-color: #434B5C;\n",
              "      --hover-fill-color: #FFFFFF;\n",
              "      --disabled-bg-color: #3B4455;\n",
              "      --disabled-fill-color: #666;\n",
              "  }\n",
              "\n",
              "  .colab-df-quickchart {\n",
              "    background-color: var(--bg-color);\n",
              "    border: none;\n",
              "    border-radius: 50%;\n",
              "    cursor: pointer;\n",
              "    display: none;\n",
              "    fill: var(--fill-color);\n",
              "    height: 32px;\n",
              "    padding: 0;\n",
              "    width: 32px;\n",
              "  }\n",
              "\n",
              "  .colab-df-quickchart:hover {\n",
              "    background-color: var(--hover-bg-color);\n",
              "    box-shadow: 0 1px 2px rgba(60, 64, 67, 0.3), 0 1px 3px 1px rgba(60, 64, 67, 0.15);\n",
              "    fill: var(--button-hover-fill-color);\n",
              "  }\n",
              "\n",
              "  .colab-df-quickchart-complete:disabled,\n",
              "  .colab-df-quickchart-complete:disabled:hover {\n",
              "    background-color: var(--disabled-bg-color);\n",
              "    fill: var(--disabled-fill-color);\n",
              "    box-shadow: none;\n",
              "  }\n",
              "\n",
              "  .colab-df-spinner {\n",
              "    border: 2px solid var(--fill-color);\n",
              "    border-color: transparent;\n",
              "    border-bottom-color: var(--fill-color);\n",
              "    animation:\n",
              "      spin 1s steps(1) infinite;\n",
              "  }\n",
              "\n",
              "  @keyframes spin {\n",
              "    0% {\n",
              "      border-color: transparent;\n",
              "      border-bottom-color: var(--fill-color);\n",
              "      border-left-color: var(--fill-color);\n",
              "    }\n",
              "    20% {\n",
              "      border-color: transparent;\n",
              "      border-left-color: var(--fill-color);\n",
              "      border-top-color: var(--fill-color);\n",
              "    }\n",
              "    30% {\n",
              "      border-color: transparent;\n",
              "      border-left-color: var(--fill-color);\n",
              "      border-top-color: var(--fill-color);\n",
              "      border-right-color: var(--fill-color);\n",
              "    }\n",
              "    40% {\n",
              "      border-color: transparent;\n",
              "      border-right-color: var(--fill-color);\n",
              "      border-top-color: var(--fill-color);\n",
              "    }\n",
              "    60% {\n",
              "      border-color: transparent;\n",
              "      border-right-color: var(--fill-color);\n",
              "    }\n",
              "    80% {\n",
              "      border-color: transparent;\n",
              "      border-right-color: var(--fill-color);\n",
              "      border-bottom-color: var(--fill-color);\n",
              "    }\n",
              "    90% {\n",
              "      border-color: transparent;\n",
              "      border-bottom-color: var(--fill-color);\n",
              "    }\n",
              "  }\n",
              "</style>\n",
              "\n",
              "  <script>\n",
              "    async function quickchart(key) {\n",
              "      const quickchartButtonEl =\n",
              "        document.querySelector('#' + key + ' button');\n",
              "      quickchartButtonEl.disabled = true;  // To prevent multiple clicks.\n",
              "      quickchartButtonEl.classList.add('colab-df-spinner');\n",
              "      try {\n",
              "        const charts = await google.colab.kernel.invokeFunction(\n",
              "            'suggestCharts', [key], {});\n",
              "      } catch (error) {\n",
              "        console.error('Error during call to suggestCharts:', error);\n",
              "      }\n",
              "      quickchartButtonEl.classList.remove('colab-df-spinner');\n",
              "      quickchartButtonEl.classList.add('colab-df-quickchart-complete');\n",
              "    }\n",
              "    (() => {\n",
              "      let quickchartButtonEl =\n",
              "        document.querySelector('#df-fe6fc76d-0f0f-4bdc-af78-7902139c342e button');\n",
              "      quickchartButtonEl.style.display =\n",
              "        google.colab.kernel.accessAllowed ? 'block' : 'none';\n",
              "    })();\n",
              "  </script>\n",
              "</div>\n",
              "    </div>\n",
              "  </div>\n"
            ],
            "application/vnd.google.colaboratory.intrinsic+json": {
              "type": "dataframe",
              "variable_name": "df",
              "summary": "{\n  \"name\": \"df\",\n  \"rows\": 5171,\n  \"fields\": [\n    {\n      \"column\": \"Unnamed: 0\",\n      \"properties\": {\n        \"dtype\": \"number\",\n        \"std\": 1492,\n        \"min\": 0,\n        \"max\": 5170,\n        \"num_unique_values\": 5171,\n        \"samples\": [\n          2924,\n          3839,\n          3078\n        ],\n        \"semantic_type\": \"\",\n        \"description\": \"\"\n      }\n    },\n    {\n      \"column\": \"label\",\n      \"properties\": {\n        \"dtype\": \"category\",\n        \"num_unique_values\": 2,\n        \"samples\": [\n          \"spam\",\n          \"ham\"\n        ],\n        \"semantic_type\": \"\",\n        \"description\": \"\"\n      }\n    },\n    {\n      \"column\": \"text\",\n      \"properties\": {\n        \"dtype\": \"string\",\n        \"num_unique_values\": 4993,\n        \"samples\": [\n          \"Subject: hpl / conoco - teco waha 03 / 23 / 01 purchase\\ndaren , conoco invoiced hpl at $ 5 . 87 for 03 / 23 at pgev / waha and deal ticket 685350 shows $ 4 . 87 . can you confirm the price ? thanks .\",\n          \"Subject: holiday on - call data\\npipeline contact phone fax pager\\nblack marlin blair lichentwalter 713 853 - 7367 713 646 - 3201 ( h )\\n281 370 - 1866\\ndebbie thompson 713 853 - 3144 713 646 - 3201\\n( noms due today for 23 rd through 27 th )\\nchannel jim tobacco 713 420 - 2159\\ngas control 1 505 599 - 2333\\n( open thursday . noms will be due through monday )\\ncentana william spekels 713 627 - 6290 713 762 - 3450\\ndonna spencer 713 627 - 6255\\ngas control 1 888 204 - 1718\\n( noms due today for 23 rd through 27 th )\\nduke energy annette anderson 713 260 - 8603 713 949 - 3026\\n( on call ) bob moseman 713 - 260 - 8698 ( thursday )\\nopen tomorrow - noms will be due thru the 27 th )\\nlonestar gary gafford 214 670 - 2674 214 875 - 3810\\ngas control 214 875 - 2455 or 2456\\n( noms due today , 23 rd thru 27 th )\\nnorthern natural ben markey 853 - 7581 cell 713 446 - 9404 800 931 - 0398\\n( on call ) charlie mosey 853 - 1520\\ngas control 853 -\\n( open thursday - noms due thru 27 th . )\\neast trans - east texas\\ntejas gas control 713 767 - 5366\\npaula svehla 713 230 - 3569\\nmickey chapman 713 230 - 3546\\n( open thursday - noms due thru 27 th )\\nmidcon ( y 2 k ) ken nachlinger 713 369 - 9284 713 369 - 9375 888 733 - 5954\\n( on call ) steven 888 790 - 0255\\n( y 2 k ) don 888 733 - 4602\\ngas control 713 369 - 9200\\n( noms due today , 23 rd thru 27 th )\\nmoss bluff no current business\"\n        ],\n        \"semantic_type\": \"\",\n        \"description\": \"\"\n      }\n    },\n    {\n      \"column\": \"label_num\",\n      \"properties\": {\n        \"dtype\": \"number\",\n        \"std\": 0,\n        \"min\": 0,\n        \"max\": 1,\n        \"num_unique_values\": 2,\n        \"samples\": [\n          1,\n          0\n        ],\n        \"semantic_type\": \"\",\n        \"description\": \"\"\n      }\n    }\n  ]\n}"
            }
          },
          "metadata": {},
          "execution_count": 28
        }
      ],
      "source": [
        "import pandas as pd\n",
        "import spacy\n",
        "from nltk.corpus import stopwords\n",
        "import re\n",
        "import string\n",
        "import nltk\n",
        "\n",
        "nltk.download('stopwords')\n",
        "\n",
        "# Ignora le righe corrotte\n",
        "df = pd.read_csv(\"https://raw.githubusercontent.com/sylver86/Spam-Detection-System-NLP/main/spam_dataset_.csv\", on_bad_lines='skip')\n",
        "df"
      ]
    },
    {
      "cell_type": "markdown",
      "id": "bfc30a59-4efc-4a4a-9cf9-c1c5dd8edffe",
      "metadata": {
        "id": "bfc30a59-4efc-4a4a-9cf9-c1c5dd8edffe"
      },
      "source": [
        "Possiamo osservare che alcuni testi sono etichettati con 0, mentre altri con 1, a seconda che il testo sia classificato come spam o meno."
      ]
    },
    {
      "cell_type": "markdown",
      "id": "f1bd405c-80ef-45ae-abea-f7d693004a91",
      "metadata": {
        "id": "f1bd405c-80ef-45ae-abea-f7d693004a91"
      },
      "source": [
        "Stiamo quindi parlando di creare un classificatore binario supervisionato."
      ]
    },
    {
      "cell_type": "markdown",
      "id": "2a630350-b49c-45bb-82dd-731e33b560b8",
      "metadata": {
        "id": "2a630350-b49c-45bb-82dd-731e33b560b8"
      },
      "source": [
        "Iniziamo a pulire il testo attraverso le seguenti attività di data cleaning:"
      ]
    },
    {
      "cell_type": "markdown",
      "id": "71bd632c-e086-42bc-b579-5afa4605154a",
      "metadata": {
        "id": "71bd632c-e086-42bc-b579-5afa4605154a"
      },
      "source": [
        "1. Lowercase\n",
        "2. Rimozione punteggiatura\n",
        "3. Lemmatizzazione\n",
        "4. Rimozione Stop words\n",
        "5. Rimozione numeri e spazi multipli"
      ]
    },
    {
      "cell_type": "markdown",
      "id": "61aaacc5-d2c5-4f04-b422-1dbaaab07fad",
      "metadata": {
        "id": "61aaacc5-d2c5-4f04-b422-1dbaaab07fad"
      },
      "source": [
        "Per fare questo, creiamo un metodo, riportato di seguito, utilizzando il modello in inglese, poiché il testo in analisi è in lingua inglese:"
      ]
    },
    {
      "cell_type": "code",
      "execution_count": 29,
      "id": "cc04e14a-e265-4d11-8ee9-facdcbe6a7cc",
      "metadata": {
        "id": "cc04e14a-e265-4d11-8ee9-facdcbe6a7cc"
      },
      "outputs": [],
      "source": [
        "english_stopwords = stopwords.words('english')\n",
        "\n",
        "nlp = spacy.load('en_core_web_sm')\n",
        "punctuaction = set(string.punctuation) #con il set evitiamo ripetizioni\n",
        "\n",
        "def data_cleaner(sentence):\n",
        "        sentence = sentence.lower() # Effettuiamo un lowercase della frase\n",
        "        for c in string.punctuation:\n",
        "            sentence = sentence.replace(c, \" \") # Rimuoviamo la punteggiatura\n",
        "        document = nlp(sentence)\n",
        "        sentence = ' '.join(token.lemma_ for token in document) # Effettuiamo la lemmatizzazione\n",
        "        sentence = ' '.join(word for word in sentence.split() if word not in english_stopwords) #Effettuiamo la rimozione stopwords\n",
        "        sentence = re.sub('\\d','',sentence) # Eliminiamo eventuali numeri\n",
        "        return sentence"
      ]
    },
    {
      "cell_type": "markdown",
      "id": "31923fe5-ab5a-4452-8a36-3476aa242918",
      "metadata": {
        "id": "31923fe5-ab5a-4452-8a36-3476aa242918"
      },
      "source": [
        "Eseguiamo dunque questo processo per tutto il dataset, andandoci a creare la colonna \"text_cleaning\":"
      ]
    },
    {
      "cell_type": "code",
      "execution_count": 30,
      "id": "5cdba35a-0661-42e0-8e62-4ddc51ea4b74",
      "metadata": {
        "id": "5cdba35a-0661-42e0-8e62-4ddc51ea4b74"
      },
      "outputs": [],
      "source": [
        "df['text_cleaning'] = df['text'].apply(data_cleaner)"
      ]
    },
    {
      "cell_type": "markdown",
      "id": "b3d75ace-ae3b-4df1-88fe-07d945cc2e88",
      "metadata": {
        "id": "b3d75ace-ae3b-4df1-88fe-07d945cc2e88"
      },
      "source": [
        "Verifichiamo l'output della nuova colonna dopo l'attività di data cleaning che abbiamo appena effettuato."
      ]
    },
    {
      "cell_type": "code",
      "execution_count": 31,
      "id": "23cb35fa-1c2a-440d-a7bd-0ff94165c8bb",
      "metadata": {
        "colab": {
          "base_uri": "https://localhost:8080/",
          "height": 424
        },
        "id": "23cb35fa-1c2a-440d-a7bd-0ff94165c8bb",
        "outputId": "e101b83f-6f09-4aaf-b445-d695e76a801f"
      },
      "outputs": [
        {
          "output_type": "execute_result",
          "data": {
            "text/plain": [
              "      Unnamed: 0 label                                               text  \\\n",
              "0            605   ham  Subject: enron methanol ; meter # : 988291\\nth...   \n",
              "1           2349   ham  Subject: hpl nom for january 9 , 2001\\n( see a...   \n",
              "2           3624   ham  Subject: neon retreat\\nho ho ho , we ' re arou...   \n",
              "3           4685  spam  Subject: photoshop , windows , office . cheap ...   \n",
              "4           2030   ham  Subject: re : indian springs\\nthis deal is to ...   \n",
              "...          ...   ...                                                ...   \n",
              "5166        1518   ham  Subject: put the 10 on the ft\\nthe transport v...   \n",
              "5167         404   ham  Subject: 3 / 4 / 2000 and following noms\\nhpl ...   \n",
              "5168        2933   ham  Subject: calpine daily gas nomination\\n>\\n>\\nj...   \n",
              "5169        1409   ham  Subject: industrial worksheets for august 2000...   \n",
              "5170        4807  spam  Subject: important online banking alert\\ndear ...   \n",
              "\n",
              "      label_num                                      text_cleaning  \n",
              "0             0  subject enron methanol meter  follow note I gi...  \n",
              "1             0  subject hpl nom january   see attached file hp...  \n",
              "2             0  subject neon retreat ho ho ho around wonderful...  \n",
              "3             1  subject photoshop window office cheap main tre...  \n",
              "4             0  subject indian spring deal book teco pvr reven...  \n",
              "...         ...                                                ...  \n",
              "5166          0  subject put  ft transport volume decrease    c...  \n",
              "5167          0  subject    follow nom hpl take extra  mmcf wee...  \n",
              "5168          0  subject calpine daily gas nomination julie I m...  \n",
              "5169          0  subject industrial worksheet august  activity ...  \n",
              "5170          1  subject important online banking alert dear va...  \n",
              "\n",
              "[5171 rows x 5 columns]"
            ],
            "text/html": [
              "\n",
              "  <div id=\"df-ad4e8818-74ce-456a-bbfd-d875335963bf\" class=\"colab-df-container\">\n",
              "    <div>\n",
              "<style scoped>\n",
              "    .dataframe tbody tr th:only-of-type {\n",
              "        vertical-align: middle;\n",
              "    }\n",
              "\n",
              "    .dataframe tbody tr th {\n",
              "        vertical-align: top;\n",
              "    }\n",
              "\n",
              "    .dataframe thead th {\n",
              "        text-align: right;\n",
              "    }\n",
              "</style>\n",
              "<table border=\"1\" class=\"dataframe\">\n",
              "  <thead>\n",
              "    <tr style=\"text-align: right;\">\n",
              "      <th></th>\n",
              "      <th>Unnamed: 0</th>\n",
              "      <th>label</th>\n",
              "      <th>text</th>\n",
              "      <th>label_num</th>\n",
              "      <th>text_cleaning</th>\n",
              "    </tr>\n",
              "  </thead>\n",
              "  <tbody>\n",
              "    <tr>\n",
              "      <th>0</th>\n",
              "      <td>605</td>\n",
              "      <td>ham</td>\n",
              "      <td>Subject: enron methanol ; meter # : 988291\\nth...</td>\n",
              "      <td>0</td>\n",
              "      <td>subject enron methanol meter  follow note I gi...</td>\n",
              "    </tr>\n",
              "    <tr>\n",
              "      <th>1</th>\n",
              "      <td>2349</td>\n",
              "      <td>ham</td>\n",
              "      <td>Subject: hpl nom for january 9 , 2001\\n( see a...</td>\n",
              "      <td>0</td>\n",
              "      <td>subject hpl nom january   see attached file hp...</td>\n",
              "    </tr>\n",
              "    <tr>\n",
              "      <th>2</th>\n",
              "      <td>3624</td>\n",
              "      <td>ham</td>\n",
              "      <td>Subject: neon retreat\\nho ho ho , we ' re arou...</td>\n",
              "      <td>0</td>\n",
              "      <td>subject neon retreat ho ho ho around wonderful...</td>\n",
              "    </tr>\n",
              "    <tr>\n",
              "      <th>3</th>\n",
              "      <td>4685</td>\n",
              "      <td>spam</td>\n",
              "      <td>Subject: photoshop , windows , office . cheap ...</td>\n",
              "      <td>1</td>\n",
              "      <td>subject photoshop window office cheap main tre...</td>\n",
              "    </tr>\n",
              "    <tr>\n",
              "      <th>4</th>\n",
              "      <td>2030</td>\n",
              "      <td>ham</td>\n",
              "      <td>Subject: re : indian springs\\nthis deal is to ...</td>\n",
              "      <td>0</td>\n",
              "      <td>subject indian spring deal book teco pvr reven...</td>\n",
              "    </tr>\n",
              "    <tr>\n",
              "      <th>...</th>\n",
              "      <td>...</td>\n",
              "      <td>...</td>\n",
              "      <td>...</td>\n",
              "      <td>...</td>\n",
              "      <td>...</td>\n",
              "    </tr>\n",
              "    <tr>\n",
              "      <th>5166</th>\n",
              "      <td>1518</td>\n",
              "      <td>ham</td>\n",
              "      <td>Subject: put the 10 on the ft\\nthe transport v...</td>\n",
              "      <td>0</td>\n",
              "      <td>subject put  ft transport volume decrease    c...</td>\n",
              "    </tr>\n",
              "    <tr>\n",
              "      <th>5167</th>\n",
              "      <td>404</td>\n",
              "      <td>ham</td>\n",
              "      <td>Subject: 3 / 4 / 2000 and following noms\\nhpl ...</td>\n",
              "      <td>0</td>\n",
              "      <td>subject    follow nom hpl take extra  mmcf wee...</td>\n",
              "    </tr>\n",
              "    <tr>\n",
              "      <th>5168</th>\n",
              "      <td>2933</td>\n",
              "      <td>ham</td>\n",
              "      <td>Subject: calpine daily gas nomination\\n&gt;\\n&gt;\\nj...</td>\n",
              "      <td>0</td>\n",
              "      <td>subject calpine daily gas nomination julie I m...</td>\n",
              "    </tr>\n",
              "    <tr>\n",
              "      <th>5169</th>\n",
              "      <td>1409</td>\n",
              "      <td>ham</td>\n",
              "      <td>Subject: industrial worksheets for august 2000...</td>\n",
              "      <td>0</td>\n",
              "      <td>subject industrial worksheet august  activity ...</td>\n",
              "    </tr>\n",
              "    <tr>\n",
              "      <th>5170</th>\n",
              "      <td>4807</td>\n",
              "      <td>spam</td>\n",
              "      <td>Subject: important online banking alert\\ndear ...</td>\n",
              "      <td>1</td>\n",
              "      <td>subject important online banking alert dear va...</td>\n",
              "    </tr>\n",
              "  </tbody>\n",
              "</table>\n",
              "<p>5171 rows × 5 columns</p>\n",
              "</div>\n",
              "    <div class=\"colab-df-buttons\">\n",
              "\n",
              "  <div class=\"colab-df-container\">\n",
              "    <button class=\"colab-df-convert\" onclick=\"convertToInteractive('df-ad4e8818-74ce-456a-bbfd-d875335963bf')\"\n",
              "            title=\"Convert this dataframe to an interactive table.\"\n",
              "            style=\"display:none;\">\n",
              "\n",
              "  <svg xmlns=\"http://www.w3.org/2000/svg\" height=\"24px\" viewBox=\"0 -960 960 960\">\n",
              "    <path d=\"M120-120v-720h720v720H120Zm60-500h600v-160H180v160Zm220 220h160v-160H400v160Zm0 220h160v-160H400v160ZM180-400h160v-160H180v160Zm440 0h160v-160H620v160ZM180-180h160v-160H180v160Zm440 0h160v-160H620v160Z\"/>\n",
              "  </svg>\n",
              "    </button>\n",
              "\n",
              "  <style>\n",
              "    .colab-df-container {\n",
              "      display:flex;\n",
              "      gap: 12px;\n",
              "    }\n",
              "\n",
              "    .colab-df-convert {\n",
              "      background-color: #E8F0FE;\n",
              "      border: none;\n",
              "      border-radius: 50%;\n",
              "      cursor: pointer;\n",
              "      display: none;\n",
              "      fill: #1967D2;\n",
              "      height: 32px;\n",
              "      padding: 0 0 0 0;\n",
              "      width: 32px;\n",
              "    }\n",
              "\n",
              "    .colab-df-convert:hover {\n",
              "      background-color: #E2EBFA;\n",
              "      box-shadow: 0px 1px 2px rgba(60, 64, 67, 0.3), 0px 1px 3px 1px rgba(60, 64, 67, 0.15);\n",
              "      fill: #174EA6;\n",
              "    }\n",
              "\n",
              "    .colab-df-buttons div {\n",
              "      margin-bottom: 4px;\n",
              "    }\n",
              "\n",
              "    [theme=dark] .colab-df-convert {\n",
              "      background-color: #3B4455;\n",
              "      fill: #D2E3FC;\n",
              "    }\n",
              "\n",
              "    [theme=dark] .colab-df-convert:hover {\n",
              "      background-color: #434B5C;\n",
              "      box-shadow: 0px 1px 3px 1px rgba(0, 0, 0, 0.15);\n",
              "      filter: drop-shadow(0px 1px 2px rgba(0, 0, 0, 0.3));\n",
              "      fill: #FFFFFF;\n",
              "    }\n",
              "  </style>\n",
              "\n",
              "    <script>\n",
              "      const buttonEl =\n",
              "        document.querySelector('#df-ad4e8818-74ce-456a-bbfd-d875335963bf button.colab-df-convert');\n",
              "      buttonEl.style.display =\n",
              "        google.colab.kernel.accessAllowed ? 'block' : 'none';\n",
              "\n",
              "      async function convertToInteractive(key) {\n",
              "        const element = document.querySelector('#df-ad4e8818-74ce-456a-bbfd-d875335963bf');\n",
              "        const dataTable =\n",
              "          await google.colab.kernel.invokeFunction('convertToInteractive',\n",
              "                                                    [key], {});\n",
              "        if (!dataTable) return;\n",
              "\n",
              "        const docLinkHtml = 'Like what you see? Visit the ' +\n",
              "          '<a target=\"_blank\" href=https://colab.research.google.com/notebooks/data_table.ipynb>data table notebook</a>'\n",
              "          + ' to learn more about interactive tables.';\n",
              "        element.innerHTML = '';\n",
              "        dataTable['output_type'] = 'display_data';\n",
              "        await google.colab.output.renderOutput(dataTable, element);\n",
              "        const docLink = document.createElement('div');\n",
              "        docLink.innerHTML = docLinkHtml;\n",
              "        element.appendChild(docLink);\n",
              "      }\n",
              "    </script>\n",
              "  </div>\n",
              "\n",
              "\n",
              "<div id=\"df-d49b132f-2936-4af3-aedb-9051eb8c1538\">\n",
              "  <button class=\"colab-df-quickchart\" onclick=\"quickchart('df-d49b132f-2936-4af3-aedb-9051eb8c1538')\"\n",
              "            title=\"Suggest charts\"\n",
              "            style=\"display:none;\">\n",
              "\n",
              "<svg xmlns=\"http://www.w3.org/2000/svg\" height=\"24px\"viewBox=\"0 0 24 24\"\n",
              "     width=\"24px\">\n",
              "    <g>\n",
              "        <path d=\"M19 3H5c-1.1 0-2 .9-2 2v14c0 1.1.9 2 2 2h14c1.1 0 2-.9 2-2V5c0-1.1-.9-2-2-2zM9 17H7v-7h2v7zm4 0h-2V7h2v10zm4 0h-2v-4h2v4z\"/>\n",
              "    </g>\n",
              "</svg>\n",
              "  </button>\n",
              "\n",
              "<style>\n",
              "  .colab-df-quickchart {\n",
              "      --bg-color: #E8F0FE;\n",
              "      --fill-color: #1967D2;\n",
              "      --hover-bg-color: #E2EBFA;\n",
              "      --hover-fill-color: #174EA6;\n",
              "      --disabled-fill-color: #AAA;\n",
              "      --disabled-bg-color: #DDD;\n",
              "  }\n",
              "\n",
              "  [theme=dark] .colab-df-quickchart {\n",
              "      --bg-color: #3B4455;\n",
              "      --fill-color: #D2E3FC;\n",
              "      --hover-bg-color: #434B5C;\n",
              "      --hover-fill-color: #FFFFFF;\n",
              "      --disabled-bg-color: #3B4455;\n",
              "      --disabled-fill-color: #666;\n",
              "  }\n",
              "\n",
              "  .colab-df-quickchart {\n",
              "    background-color: var(--bg-color);\n",
              "    border: none;\n",
              "    border-radius: 50%;\n",
              "    cursor: pointer;\n",
              "    display: none;\n",
              "    fill: var(--fill-color);\n",
              "    height: 32px;\n",
              "    padding: 0;\n",
              "    width: 32px;\n",
              "  }\n",
              "\n",
              "  .colab-df-quickchart:hover {\n",
              "    background-color: var(--hover-bg-color);\n",
              "    box-shadow: 0 1px 2px rgba(60, 64, 67, 0.3), 0 1px 3px 1px rgba(60, 64, 67, 0.15);\n",
              "    fill: var(--button-hover-fill-color);\n",
              "  }\n",
              "\n",
              "  .colab-df-quickchart-complete:disabled,\n",
              "  .colab-df-quickchart-complete:disabled:hover {\n",
              "    background-color: var(--disabled-bg-color);\n",
              "    fill: var(--disabled-fill-color);\n",
              "    box-shadow: none;\n",
              "  }\n",
              "\n",
              "  .colab-df-spinner {\n",
              "    border: 2px solid var(--fill-color);\n",
              "    border-color: transparent;\n",
              "    border-bottom-color: var(--fill-color);\n",
              "    animation:\n",
              "      spin 1s steps(1) infinite;\n",
              "  }\n",
              "\n",
              "  @keyframes spin {\n",
              "    0% {\n",
              "      border-color: transparent;\n",
              "      border-bottom-color: var(--fill-color);\n",
              "      border-left-color: var(--fill-color);\n",
              "    }\n",
              "    20% {\n",
              "      border-color: transparent;\n",
              "      border-left-color: var(--fill-color);\n",
              "      border-top-color: var(--fill-color);\n",
              "    }\n",
              "    30% {\n",
              "      border-color: transparent;\n",
              "      border-left-color: var(--fill-color);\n",
              "      border-top-color: var(--fill-color);\n",
              "      border-right-color: var(--fill-color);\n",
              "    }\n",
              "    40% {\n",
              "      border-color: transparent;\n",
              "      border-right-color: var(--fill-color);\n",
              "      border-top-color: var(--fill-color);\n",
              "    }\n",
              "    60% {\n",
              "      border-color: transparent;\n",
              "      border-right-color: var(--fill-color);\n",
              "    }\n",
              "    80% {\n",
              "      border-color: transparent;\n",
              "      border-right-color: var(--fill-color);\n",
              "      border-bottom-color: var(--fill-color);\n",
              "    }\n",
              "    90% {\n",
              "      border-color: transparent;\n",
              "      border-bottom-color: var(--fill-color);\n",
              "    }\n",
              "  }\n",
              "</style>\n",
              "\n",
              "  <script>\n",
              "    async function quickchart(key) {\n",
              "      const quickchartButtonEl =\n",
              "        document.querySelector('#' + key + ' button');\n",
              "      quickchartButtonEl.disabled = true;  // To prevent multiple clicks.\n",
              "      quickchartButtonEl.classList.add('colab-df-spinner');\n",
              "      try {\n",
              "        const charts = await google.colab.kernel.invokeFunction(\n",
              "            'suggestCharts', [key], {});\n",
              "      } catch (error) {\n",
              "        console.error('Error during call to suggestCharts:', error);\n",
              "      }\n",
              "      quickchartButtonEl.classList.remove('colab-df-spinner');\n",
              "      quickchartButtonEl.classList.add('colab-df-quickchart-complete');\n",
              "    }\n",
              "    (() => {\n",
              "      let quickchartButtonEl =\n",
              "        document.querySelector('#df-d49b132f-2936-4af3-aedb-9051eb8c1538 button');\n",
              "      quickchartButtonEl.style.display =\n",
              "        google.colab.kernel.accessAllowed ? 'block' : 'none';\n",
              "    })();\n",
              "  </script>\n",
              "</div>\n",
              "    </div>\n",
              "  </div>\n"
            ],
            "application/vnd.google.colaboratory.intrinsic+json": {
              "type": "dataframe",
              "variable_name": "df",
              "summary": "{\n  \"name\": \"df\",\n  \"rows\": 5171,\n  \"fields\": [\n    {\n      \"column\": \"Unnamed: 0\",\n      \"properties\": {\n        \"dtype\": \"number\",\n        \"std\": 1492,\n        \"min\": 0,\n        \"max\": 5170,\n        \"num_unique_values\": 5171,\n        \"samples\": [\n          2924,\n          3839,\n          3078\n        ],\n        \"semantic_type\": \"\",\n        \"description\": \"\"\n      }\n    },\n    {\n      \"column\": \"label\",\n      \"properties\": {\n        \"dtype\": \"category\",\n        \"num_unique_values\": 2,\n        \"samples\": [\n          \"spam\",\n          \"ham\"\n        ],\n        \"semantic_type\": \"\",\n        \"description\": \"\"\n      }\n    },\n    {\n      \"column\": \"text\",\n      \"properties\": {\n        \"dtype\": \"string\",\n        \"num_unique_values\": 4993,\n        \"samples\": [\n          \"Subject: hpl / conoco - teco waha 03 / 23 / 01 purchase\\ndaren , conoco invoiced hpl at $ 5 . 87 for 03 / 23 at pgev / waha and deal ticket 685350 shows $ 4 . 87 . can you confirm the price ? thanks .\",\n          \"Subject: holiday on - call data\\npipeline contact phone fax pager\\nblack marlin blair lichentwalter 713 853 - 7367 713 646 - 3201 ( h )\\n281 370 - 1866\\ndebbie thompson 713 853 - 3144 713 646 - 3201\\n( noms due today for 23 rd through 27 th )\\nchannel jim tobacco 713 420 - 2159\\ngas control 1 505 599 - 2333\\n( open thursday . noms will be due through monday )\\ncentana william spekels 713 627 - 6290 713 762 - 3450\\ndonna spencer 713 627 - 6255\\ngas control 1 888 204 - 1718\\n( noms due today for 23 rd through 27 th )\\nduke energy annette anderson 713 260 - 8603 713 949 - 3026\\n( on call ) bob moseman 713 - 260 - 8698 ( thursday )\\nopen tomorrow - noms will be due thru the 27 th )\\nlonestar gary gafford 214 670 - 2674 214 875 - 3810\\ngas control 214 875 - 2455 or 2456\\n( noms due today , 23 rd thru 27 th )\\nnorthern natural ben markey 853 - 7581 cell 713 446 - 9404 800 931 - 0398\\n( on call ) charlie mosey 853 - 1520\\ngas control 853 -\\n( open thursday - noms due thru 27 th . )\\neast trans - east texas\\ntejas gas control 713 767 - 5366\\npaula svehla 713 230 - 3569\\nmickey chapman 713 230 - 3546\\n( open thursday - noms due thru 27 th )\\nmidcon ( y 2 k ) ken nachlinger 713 369 - 9284 713 369 - 9375 888 733 - 5954\\n( on call ) steven 888 790 - 0255\\n( y 2 k ) don 888 733 - 4602\\ngas control 713 369 - 9200\\n( noms due today , 23 rd thru 27 th )\\nmoss bluff no current business\"\n        ],\n        \"semantic_type\": \"\",\n        \"description\": \"\"\n      }\n    },\n    {\n      \"column\": \"label_num\",\n      \"properties\": {\n        \"dtype\": \"number\",\n        \"std\": 0,\n        \"min\": 0,\n        \"max\": 1,\n        \"num_unique_values\": 2,\n        \"samples\": [\n          1,\n          0\n        ],\n        \"semantic_type\": \"\",\n        \"description\": \"\"\n      }\n    },\n    {\n      \"column\": \"text_cleaning\",\n      \"properties\": {\n        \"dtype\": \"string\",\n        \"num_unique_values\": 4639,\n        \"samples\": [\n          \"subject eastran september first month nomination effective    delivery eastran   mmbtu dy redeliverie  fuel cotton valley  pg e\",\n          \"subject story daughter pain anymore newsweek medical pain comparison finalist crave persuasivehave penis worldbodyguard lackey coupeglutamine escape morphinefisherman cryptanalytic stokecellar algonquin bewitchcatnip complicate alkalinedalton kafkaesque gigabitsquander squad hacksaw upbringcoexist debate upstanddichotomize atonal lumbermanarrowroot\"\n        ],\n        \"semantic_type\": \"\",\n        \"description\": \"\"\n      }\n    }\n  ]\n}"
            }
          },
          "metadata": {},
          "execution_count": 31
        }
      ],
      "source": [
        "df"
      ]
    },
    {
      "cell_type": "markdown",
      "id": "e9936018-2d3b-4969-9456-3aa30d839a26",
      "metadata": {
        "id": "e9936018-2d3b-4969-9456-3aa30d839a26"
      },
      "source": [
        "## Addestramento di un Classificatore"
      ]
    },
    {
      "cell_type": "markdown",
      "id": "d000a8b6-0c7c-4c8d-b575-babbce13e4b5",
      "metadata": {
        "id": "d000a8b6-0c7c-4c8d-b575-babbce13e4b5"
      },
      "source": [
        "Ora che il dataset è pronto, valuteremo alcuni classificatori per scegliere il migliore in termini di performance e metriche."
      ]
    },
    {
      "cell_type": "markdown",
      "id": "7ad9a933-2b88-44d2-8558-06f77fc3cc39",
      "metadata": {
        "id": "7ad9a933-2b88-44d2-8558-06f77fc3cc39"
      },
      "source": [
        "Iniziamo a dividere il dataset in due parti: una per il training e una per il test, utilizzando il seguente codice:"
      ]
    },
    {
      "cell_type": "code",
      "execution_count": 32,
      "id": "5d1c405c-e8d2-48c1-bb1a-93f112790898",
      "metadata": {
        "id": "5d1c405c-e8d2-48c1-bb1a-93f112790898"
      },
      "outputs": [],
      "source": [
        "from sklearn.model_selection import train_test_split\n",
        "\n",
        "X_train, X_test, y_train, y_test = train_test_split(df['text_cleaning'], df['label_num'], test_size=0.25, random_state=42)"
      ]
    },
    {
      "cell_type": "markdown",
      "id": "53866125-3591-4acc-b943-e408cdbbcfc0",
      "metadata": {
        "id": "53866125-3591-4acc-b943-e408cdbbcfc0"
      },
      "source": [
        "Andiamo ora a creare una vettorizzazione TF-IDF della colonna riferita al train e al test. Utilizziamo la vettorizzazione TF-IDF (Term Frequency-Inverse Document Frequency) perché permette di trasformare il testo in una rappresentazione numerica, assegnando un peso a ciascun termine in base alla sua frequenza nel documento e alla rarità del termine in tutto il corpus. <br><br>Questo approccio aiuta a identificare meglio i termini importanti per la classificazione, riducendo l'influenza dei termini comuni che possono essere meno rilevanti."
      ]
    },
    {
      "cell_type": "code",
      "execution_count": 33,
      "id": "e3df9f94-252b-4047-aab5-6d68956d5fc9",
      "metadata": {
        "id": "e3df9f94-252b-4047-aab5-6d68956d5fc9"
      },
      "outputs": [],
      "source": [
        "from sklearn.feature_extraction.text import TfidfVectorizer\n",
        "\n",
        "# Creazione del vettorizzatore TF-IDF e trasformazione dei dati\n",
        "vectorizer = TfidfVectorizer(binary=True)\n",
        "X_train_tfidf = vectorizer.fit_transform(X_train)\n",
        "X_test_tfidf = vectorizer.transform(X_test)"
      ]
    },
    {
      "cell_type": "markdown",
      "id": "46e09fcd-0e50-481c-b4f8-e5a164b8deb2",
      "metadata": {
        "id": "46e09fcd-0e50-481c-b4f8-e5a164b8deb2"
      },
      "source": [
        "Adesso possiamo procedere con l'addestramento di un classificatore. Quelli che andremo a mettere a confronto saranno :\n",
        "\n",
        "1. Naive Bayes\n",
        "2. Support Vector Machines (SVM)\n",
        "3. Reti neurali"
      ]
    },
    {
      "cell_type": "markdown",
      "id": "31ba48cc-d188-4a2d-9e8d-cd9579a27fed",
      "metadata": {
        "id": "31ba48cc-d188-4a2d-9e8d-cd9579a27fed"
      },
      "source": [
        "### Naive Bayes"
      ]
    },
    {
      "cell_type": "markdown",
      "id": "e3fcb4eb-b411-4f42-b623-f31b5fd6ddf8",
      "metadata": {
        "id": "e3fcb4eb-b411-4f42-b623-f31b5fd6ddf8"
      },
      "source": [
        "Proviamo ad utilizzare il Bernoulli Naive Bayes (in quanto classificatore binario)."
      ]
    },
    {
      "cell_type": "code",
      "execution_count": 34,
      "id": "554412c7-fa67-4248-8f5f-d5a0e9ccf7cf",
      "metadata": {
        "id": "554412c7-fa67-4248-8f5f-d5a0e9ccf7cf"
      },
      "outputs": [],
      "source": [
        "from sklearn.naive_bayes import BernoulliNB\n",
        "from sklearn.metrics import accuracy_score, classification_report\n",
        "\n",
        "# Addestramento del classificatore Bernoulli Naive Bayes\n",
        "clf = BernoulliNB()\n",
        "clf.fit(X_train_tfidf, y_train)\n",
        "\n",
        "# Predizione sui dati di test\n",
        "y_pred = clf.predict(X_test_tfidf)"
      ]
    },
    {
      "cell_type": "markdown",
      "id": "b39ab0b5-9c3c-49ed-83ef-b19654a7ec33",
      "metadata": {
        "id": "b39ab0b5-9c3c-49ed-83ef-b19654a7ec33"
      },
      "source": [
        "Proviamo a valutare le prestazioni del modello."
      ]
    },
    {
      "cell_type": "code",
      "execution_count": 35,
      "id": "2e6b3f8d-b041-478f-86f0-64683c997838",
      "metadata": {
        "colab": {
          "base_uri": "https://localhost:8080/"
        },
        "id": "2e6b3f8d-b041-478f-86f0-64683c997838",
        "outputId": "177591e3-cf2a-4197-e056-04683b28504f"
      },
      "outputs": [
        {
          "output_type": "stream",
          "name": "stdout",
          "text": [
            "Accuracy: 0.8275328692962104\n",
            "Classification Report:\n",
            "              precision    recall  f1-score   support\n",
            "\n",
            "           0       0.82      0.98      0.89       930\n",
            "           1       0.88      0.45      0.59       363\n",
            "\n",
            "    accuracy                           0.83      1293\n",
            "   macro avg       0.85      0.71      0.74      1293\n",
            "weighted avg       0.84      0.83      0.81      1293\n",
            "\n"
          ]
        }
      ],
      "source": [
        "# Valutazione delle prestazioni del modello\n",
        "print(f\"Accuracy: {accuracy_score(y_test, y_pred)}\")\n",
        "print(\"Classification Report:\")\n",
        "print(classification_report(y_test, y_pred))"
      ]
    },
    {
      "cell_type": "markdown",
      "id": "0cd7167a-2461-49c5-a8ca-41eaebd552f0",
      "metadata": {
        "id": "0cd7167a-2461-49c5-a8ca-41eaebd552f0"
      },
      "source": [
        "### Support Vector Machines (SVM)"
      ]
    },
    {
      "cell_type": "markdown",
      "id": "751fd1bd-a436-4a1c-be0b-0eecc40345c8",
      "metadata": {
        "id": "751fd1bd-a436-4a1c-be0b-0eecc40345c8"
      },
      "source": [
        "Andiamo ora a vedere come si applica invece il modello SVM al problema di classificazione."
      ]
    },
    {
      "cell_type": "code",
      "execution_count": 36,
      "id": "3e5f1334-584b-4139-b336-bde075696bd6",
      "metadata": {
        "id": "3e5f1334-584b-4139-b336-bde075696bd6"
      },
      "outputs": [],
      "source": [
        "from sklearn.svm import SVC\n",
        "\n",
        "svc = SVC()\n",
        "svc.fit(X_train_tfidf, y_train)\n",
        "\n",
        "# Predizione sui dati di test\n",
        "y_pred = svc.predict(X_test_tfidf)\n"
      ]
    },
    {
      "cell_type": "code",
      "execution_count": 37,
      "id": "81dd175d-c730-41df-8e68-e04a817d1670",
      "metadata": {
        "scrolled": true,
        "colab": {
          "base_uri": "https://localhost:8080/"
        },
        "id": "81dd175d-c730-41df-8e68-e04a817d1670",
        "outputId": "bbd90054-5c10-4e19-e7ca-a394c06de28b"
      },
      "outputs": [
        {
          "output_type": "stream",
          "name": "stdout",
          "text": [
            "Accuracy: 0.9860788863109049\n",
            "Classification Report:\n",
            "              precision    recall  f1-score   support\n",
            "\n",
            "           0       0.99      0.99      0.99       930\n",
            "           1       0.96      0.99      0.98       363\n",
            "\n",
            "    accuracy                           0.99      1293\n",
            "   macro avg       0.98      0.99      0.98      1293\n",
            "weighted avg       0.99      0.99      0.99      1293\n",
            "\n"
          ]
        }
      ],
      "source": [
        "# Valutazione delle prestazioni del modello\n",
        "print(f\"Accuracy: {accuracy_score(y_test, y_pred)}\")\n",
        "print(\"Classification Report:\")\n",
        "print(classification_report(y_test, y_pred))"
      ]
    },
    {
      "cell_type": "markdown",
      "id": "dab0ae00-e2fe-4dd0-a96f-96d60eda4fa1",
      "metadata": {
        "id": "dab0ae00-e2fe-4dd0-a96f-96d60eda4fa1"
      },
      "source": [
        "### Reti Neurali"
      ]
    },
    {
      "cell_type": "code",
      "execution_count": 38,
      "id": "0953b8d7-fff5-4ffb-b3ec-db0ad123f8c8",
      "metadata": {
        "id": "0953b8d7-fff5-4ffb-b3ec-db0ad123f8c8"
      },
      "outputs": [],
      "source": [
        "from sklearn.neural_network import MLPClassifier\n",
        "from tensorflow.keras.models import Sequential\n",
        "from tensorflow.keras.layers import Dense\n",
        "\n",
        "\n",
        "# Multi-layer Perceptron Classifier (MLP)\n",
        "mlp_clf = MLPClassifier(hidden_layer_sizes=(100,))\n",
        "mlp_clf.fit(X_train_tfidf, y_train)\n",
        "y_pred = mlp_clf.predict(X_test_tfidf)"
      ]
    },
    {
      "cell_type": "code",
      "execution_count": 39,
      "id": "a73c8c73-1889-4374-acce-13a91d50918b",
      "metadata": {
        "colab": {
          "base_uri": "https://localhost:8080/"
        },
        "id": "a73c8c73-1889-4374-acce-13a91d50918b",
        "outputId": "8cf18504-21f3-4bb9-b9a8-14da3ecaf2fc"
      },
      "outputs": [
        {
          "output_type": "stream",
          "name": "stdout",
          "text": [
            "Accuracy: 0.9899458623356535\n",
            "Classification Report:\n",
            "              precision    recall  f1-score   support\n",
            "\n",
            "           0       0.99      0.99      0.99       930\n",
            "           1       0.98      0.98      0.98       363\n",
            "\n",
            "    accuracy                           0.99      1293\n",
            "   macro avg       0.99      0.99      0.99      1293\n",
            "weighted avg       0.99      0.99      0.99      1293\n",
            "\n"
          ]
        }
      ],
      "source": [
        "# Valutazione delle prestazioni del modello\n",
        "print(f\"Accuracy: {accuracy_score(y_test, y_pred)}\")\n",
        "print(\"Classification Report:\")\n",
        "print(classification_report(y_test, y_pred))"
      ]
    },
    {
      "cell_type": "markdown",
      "id": "ca2963b6-8e25-41e0-b93e-c754fa347b98",
      "metadata": {
        "id": "ca2963b6-8e25-41e0-b93e-c754fa347b98"
      },
      "source": [
        "Come possiamo vedere sia il modello SVM che a Reti Neurali dimostrano le migliori performance predittive."
      ]
    },
    {
      "cell_type": "markdown",
      "id": "223ead65-18fa-4ae7-aa5b-e11e8eb4a160",
      "metadata": {
        "id": "223ead65-18fa-4ae7-aa5b-e11e8eb4a160"
      },
      "source": [
        "# Individuazione dei Topic principali su SPAM"
      ]
    },
    {
      "cell_type": "markdown",
      "id": "d5e063b9-4ded-4480-9631-31fdbdce2bb1",
      "metadata": {
        "id": "d5e063b9-4ded-4480-9631-31fdbdce2bb1"
      },
      "source": [
        "Come altro task previsto nel progetto, andiamo adesso a individuare i principali argomenti tra le email SPAM. Nel dettaglio, andremo a:\n",
        "\n",
        "    Effettuare il topic modeling sulle email SPAM per scoprire i principali temi o argomenti presenti.\n",
        "    Utilizzare tecniche come la Latent Dirichlet Allocation (LDA) per l'estrazione degli argomenti.\n",
        "\n"
      ]
    },
    {
      "cell_type": "markdown",
      "id": "6a4a609c-2529-4606-afc3-5013c7353aba",
      "metadata": {
        "id": "6a4a609c-2529-4606-afc3-5013c7353aba"
      },
      "source": [
        "Quello che faremo sarà dunque l'applicazione dell'algoritmo **Latent Dirichlet Allocation** (LDA), che permette di individuare l'insieme di argomenti trattati."
      ]
    },
    {
      "cell_type": "markdown",
      "id": "152facf6-0926-467e-9c7a-0980c4d3ad31",
      "metadata": {
        "id": "152facf6-0926-467e-9c7a-0980c4d3ad31"
      },
      "source": [
        "Iniziamo a importarci la libreria di gensim :"
      ]
    },
    {
      "cell_type": "code",
      "execution_count": 40,
      "id": "73838eeb-6a56-4275-88c1-32c92decea52",
      "metadata": {
        "id": "73838eeb-6a56-4275-88c1-32c92decea52"
      },
      "outputs": [],
      "source": [
        "import gensim\n",
        "import gensim.corpora as corpora\n",
        "from gensim.utils import simple_preprocess"
      ]
    },
    {
      "cell_type": "markdown",
      "id": "edcaae15-f2d0-4f2b-a235-a1f8f472884c",
      "metadata": {
        "id": "edcaae15-f2d0-4f2b-a235-a1f8f472884c"
      },
      "source": [
        "Creiamo quindi un metodo (che denomineremo sent_to_words) che consente di applicare la tokenizzazione attraverso l'utilizzo del metodo **simple_preprocess** tra le utils di gensim:"
      ]
    },
    {
      "cell_type": "code",
      "execution_count": 41,
      "id": "647247ba-72e6-431e-99bb-af9ce576d83d",
      "metadata": {
        "id": "647247ba-72e6-431e-99bb-af9ce576d83d"
      },
      "outputs": [],
      "source": [
        "def sent_to_words(items):\n",
        "    for item in items:\n",
        "        yield(simple_preprocess(item, deacc=True)) # Viene restituita una lista (con deacc=True elimina la punteggiatura dal testo)\n",
        "\n",
        "\n",
        "df = df[df['label_num']==1] # Vado a filtrarmi solo i record di tipo Spam\n",
        "data_words = list(sent_to_words(df['text_cleaning'])) # Tokenizziamo il testo"
      ]
    },
    {
      "cell_type": "markdown",
      "id": "bc1bbd5b-095e-4476-9f57-d392c966c33a",
      "metadata": {
        "id": "bc1bbd5b-095e-4476-9f57-d392c966c33a"
      },
      "source": [
        "Vediamo qual è il risultato della tokenizzazione per la prima frase del dataset."
      ]
    },
    {
      "cell_type": "code",
      "execution_count": 42,
      "id": "472835e2-2505-4966-b92c-10d699933137",
      "metadata": {
        "colab": {
          "base_uri": "https://localhost:8080/"
        },
        "id": "472835e2-2505-4966-b92c-10d699933137",
        "outputId": "b491d57c-10cd-44c8-ccf7-ba7dde673c02"
      },
      "outputs": [
        {
          "output_type": "execute_result",
          "data": {
            "text/plain": [
              "['subject',\n",
              " 'look',\n",
              " 'medication',\n",
              " 'good',\n",
              " 'source',\n",
              " 'difficult',\n",
              " 'make',\n",
              " 'material',\n",
              " 'condition',\n",
              " 'well',\n",
              " 'good',\n",
              " 'law',\n",
              " 'easy',\n",
              " 'enough',\n",
              " 'ruin',\n",
              " 'bad',\n",
              " 'law',\n",
              " 'excuse',\n",
              " 'find',\n",
              " 'good',\n",
              " 'simpli',\n",
              " 'site',\n",
              " 'medication',\n",
              " 'net',\n",
              " 'perscription',\n",
              " 'easy',\n",
              " 'delivery',\n",
              " 'private',\n",
              " 'secure',\n",
              " 'easy',\n",
              " 'well',\n",
              " 'see',\n",
              " 'rightly',\n",
              " 'pound',\n",
              " 'week',\n",
              " 'squint',\n",
              " 'million',\n",
              " 'get',\n",
              " 'anything',\n",
              " 'ever',\n",
              " 'want',\n",
              " 'erection',\n",
              " 'treatment',\n",
              " 'pill',\n",
              " 'anti',\n",
              " 'depressant',\n",
              " 'pill',\n",
              " 'weight',\n",
              " 'loss',\n",
              " 'http',\n",
              " 'splicing',\n",
              " 'bombahakcx',\n",
              " 'com',\n",
              " 'knowledge',\n",
              " 'human',\n",
              " 'power',\n",
              " 'synonymous',\n",
              " 'high',\n",
              " 'quality',\n",
              " 'stuff',\n",
              " 'low',\n",
              " 'rate',\n",
              " 'moneyback',\n",
              " 'guarantee',\n",
              " 'god',\n",
              " 'nature',\n",
              " 'sufficeth',\n",
              " 'unto',\n",
              " 'wise',\n",
              " 'hath',\n",
              " 'need',\n",
              " 'author']"
            ]
          },
          "metadata": {},
          "execution_count": 42
        }
      ],
      "source": [
        "data_words[1]"
      ]
    },
    {
      "cell_type": "markdown",
      "id": "e25b22ba-a74a-4f07-8805-684a1fdc4362",
      "metadata": {
        "id": "e25b22ba-a74a-4f07-8805-684a1fdc4362"
      },
      "source": [
        "Come abbiamo visto, abbiamo tokenizzato le frasi del nostro documento. <br><br>Ora, per poter utilizzare il modello LDA, dobbiamo vettorizzare i dati. La vettorizzazione è necessaria perché il modello LDA lavora con dati numerici anziché testuali. Prima di processare la vettorizzazione, dobbiamo definire il nostro dizionario."
      ]
    },
    {
      "cell_type": "code",
      "execution_count": 43,
      "id": "caf9e46b-3cb7-4cfd-83a3-571ec4077b33",
      "metadata": {
        "id": "caf9e46b-3cb7-4cfd-83a3-571ec4077b33"
      },
      "outputs": [],
      "source": [
        "id2word = corpora.Dictionary(data_words)"
      ]
    },
    {
      "cell_type": "markdown",
      "id": "b8e526e6-f3c1-4cd2-a019-e6e9f2ab1f54",
      "metadata": {
        "id": "b8e526e6-f3c1-4cd2-a019-e6e9f2ab1f54"
      },
      "source": [
        "Andiamo adesso a vettorizzare il testo, il che significa sostituire le parole con vettori numerici:"
      ]
    },
    {
      "cell_type": "code",
      "execution_count": 44,
      "id": "2a7ab59b-b1e6-48c5-a7f0-2c7b17583da2",
      "metadata": {
        "id": "2a7ab59b-b1e6-48c5-a7f0-2c7b17583da2"
      },
      "outputs": [],
      "source": [
        "corpus = [id2word.doc2bow(text) for text in data_words] # Il metodo doc2bow effettua il bag of word tramite il \"Count Vectorizer\""
      ]
    },
    {
      "cell_type": "code",
      "execution_count": 45,
      "id": "91c4f87d-8d26-404a-b405-a86c2407037c",
      "metadata": {
        "colab": {
          "base_uri": "https://localhost:8080/"
        },
        "id": "91c4f87d-8d26-404a-b405-a86c2407037c",
        "outputId": "fe470b8b-62ef-43d1-cb36-b9f4e9d80b89"
      },
      "outputs": [
        {
          "output_type": "execute_result",
          "data": {
            "text/plain": [
              "[(0, 1),\n",
              " (1, 1),\n",
              " (2, 1),\n",
              " (3, 1),\n",
              " (4, 1),\n",
              " (5, 1),\n",
              " (6, 1),\n",
              " (7, 1),\n",
              " (8, 1),\n",
              " (9, 1),\n",
              " (10, 1),\n",
              " (11, 1),\n",
              " (12, 1),\n",
              " (13, 1),\n",
              " (14, 1),\n",
              " (15, 1),\n",
              " (16, 1),\n",
              " (17, 1),\n",
              " (18, 1),\n",
              " (19, 1),\n",
              " (20, 1),\n",
              " (21, 1),\n",
              " (22, 1),\n",
              " (23, 1),\n",
              " (24, 1),\n",
              " (25, 1),\n",
              " (26, 1),\n",
              " (27, 1),\n",
              " (28, 1),\n",
              " (29, 1),\n",
              " (30, 1),\n",
              " (31, 1),\n",
              " (32, 1),\n",
              " (33, 1),\n",
              " (34, 1),\n",
              " (35, 1),\n",
              " (36, 1),\n",
              " (37, 1),\n",
              " (38, 1),\n",
              " (39, 1),\n",
              " (40, 1),\n",
              " (41, 1),\n",
              " (42, 1),\n",
              " (43, 1)]"
            ]
          },
          "metadata": {},
          "execution_count": 45
        }
      ],
      "source": [
        "corpus[0]"
      ]
    },
    {
      "cell_type": "markdown",
      "id": "ef52f81c-8926-40d8-ba03-3b17056dea2a",
      "metadata": {
        "id": "ef52f81c-8926-40d8-ba03-3b17056dea2a"
      },
      "source": [
        "Come possiamo vedere abbiamo la vettorizzazione pronta possiamo quindi procedere a impostare il modello LDA:"
      ]
    },
    {
      "cell_type": "code",
      "execution_count": 50,
      "id": "ff237303-8e0e-402b-aa5d-fbcf88059b8a",
      "metadata": {
        "colab": {
          "base_uri": "https://localhost:8080/"
        },
        "id": "ff237303-8e0e-402b-aa5d-fbcf88059b8a",
        "outputId": "9d2b15f3-10a7-426f-bd2e-2e1542dd8b46"
      },
      "outputs": [
        {
          "output_type": "stream",
          "name": "stdout",
          "text": [
            "[(0,\n",
            "  '0.017*\"subject\" + 0.005*\"http\" + 0.004*\"com\" + 0.004*\"www\" + '\n",
            "  '0.003*\"content\" + 0.003*\"paliourg\" + 0.003*\"html\" + 0.003*\"gr\" + '\n",
            "  '0.003*\"get\" + 0.003*\"die\"'),\n",
            " (1,\n",
            "  '0.017*\"subject\" + 0.009*\"get\" + 0.008*\"com\" + 0.008*\"http\" + 0.006*\"money\" '\n",
            "  '+ 0.005*\"new\" + 0.005*\"time\" + 0.005*\"please\" + 0.005*\"email\" + '\n",
            "  '0.005*\"want\"'),\n",
            " (2,\n",
            "  '0.025*\"pill\" + 0.013*\"subject\" + 0.011*\"viagra\" + 0.009*\"cialis\" + '\n",
            "  '0.009*\"prescription\" + 0.007*\"drug\" + 0.007*\"mg\" + 0.007*\"good\" + '\n",
            "  '0.007*\"get\" + 0.006*\"order\"'),\n",
            " (3,\n",
            "  '0.018*\"company\" + 0.010*\"statement\" + 0.009*\"stock\" + 0.007*\"information\" + '\n",
            "  '0.007*\"may\" + 0.006*\"report\" + 0.006*\"security\" + 0.006*\"investment\" + '\n",
            "  '0.006*\"price\" + 0.005*\"within\"'),\n",
            " (4,\n",
            "  '0.017*\"price\" + 0.011*\"subject\" + 0.008*\"software\" + 0.006*\"save\" + '\n",
            "  '0.006*\"adobe\" + 0.006*\"xp\" + 0.005*\"microsoft\" + 0.005*\"retail\" + '\n",
            "  '0.005*\"http\" + 0.004*\"professional\"'),\n",
            " (5,\n",
            "  '0.030*\"font\" + 0.028*\"td\" + 0.023*\"nbsp\" + 0.021*\"height\" + 0.020*\"http\" + '\n",
            "  '0.018*\"width\" + 0.015*\"size\" + 0.013*\"align\" + 0.013*\"tr\" + 0.011*\"color\"'),\n",
            " (6,\n",
            "  '0.013*\"com\" + 0.010*\"computron\" + 0.009*\"contact\" + 0.009*\"subject\" + '\n",
            "  '0.009*\"www\" + 0.007*\"please\" + 0.007*\"message\" + 0.006*\"remove\" + '\n",
            "  '0.006*\"mail\" + 0.005*\"free\"'),\n",
            " (7,\n",
            "  '0.004*\"nascar\" + 0.004*\"speedway\" + 0.004*\"motor\" + 0.004*\"silicon\" + '\n",
            "  '0.003*\"indianapoli\" + 0.003*\"abdv\" + 0.003*\"simulator\" + 0.002*\"direct\" + '\n",
            "  '0.002*\"imts\" + 0.001*\"subject\"'),\n",
            " (8,\n",
            "  '0.006*\"subject\" + 0.006*\"rate\" + 0.006*\"say\" + 0.004*\"get\" + 0.003*\"low\" + '\n",
            "  '0.003*\"source\" + 0.003*\"use\" + 0.003*\"call\" + 0.003*\"think\" + 0.002*\"http\"'),\n",
            " (9,\n",
            "  '0.007*\"account\" + 0.007*\"subject\" + 0.005*\"email\" + 0.004*\"http\" + '\n",
            "  '0.004*\"spain\" + 0.003*\"bank\" + 0.003*\"internet\" + 0.003*\"get\" + '\n",
            "  '0.003*\"please\" + 0.003*\"spam\"')]\n"
          ]
        }
      ],
      "source": [
        "from pprint import pprint\n",
        "import gensim\n",
        "\n",
        "# Inizializziamo con 10 i topics che vogliamo nel nostro modello - qui ad esempio mettiamo 10 TOPICS\n",
        "num_topics = 10\n",
        "\n",
        "# Creo il modello LDA utilizzando LdaMulticore, che è efficiente per il calcolo su più core della CPU\n",
        "lda_model = gensim.models.LdaMulticore(\n",
        "    corpus=corpus,  # 'corpus' è una collezione di documenti testuali in forma vettoriale che abbiamo processato in precedenza\n",
        "    id2word=id2word,  # 'id2word' è il dizionario costruito in precedenza che mappa gli ID numerici delle parole ai loro testi\n",
        "    num_topics=num_topics,  # Numero di topic desiderati nel modello\n",
        "    passes=10,  # Numero di passaggi\n",
        "    chunksize=100,  # Dimensione dei chunk per migliorare l'efficienza\n",
        "    workers=4,  # Numero di core da utilizzare\n",
        "    alpha='asymmetric',  # Ottimizzazione automatica di alpha\n",
        "    eta='auto'  # Ottimizzazione automatica di eta\n",
        ")\n",
        "\n",
        "# Applica il modello LDA al corpus per ottenere la distribuzione dei topic per ogni documento.\n",
        "doc_lda = lda_model[corpus]\n"
      ]
    },
    {
      "cell_type": "markdown",
      "id": "7495504a-0ddc-4f37-9aef-ad7b39532ce1",
      "metadata": {
        "id": "7495504a-0ddc-4f37-9aef-ad7b39532ce1"
      },
      "source": [
        "Ottenuto il modello LDA, andiamo adesso a mostrare le parole chiave per ciascun topic:"
      ]
    },
    {
      "cell_type": "code",
      "execution_count": 51,
      "id": "fd40a0d4-9427-456e-b0d4-ab3445ba9957",
      "metadata": {
        "colab": {
          "base_uri": "https://localhost:8080/"
        },
        "id": "fd40a0d4-9427-456e-b0d4-ab3445ba9957",
        "outputId": "d939a42e-9448-48b8-9d73-896a34983cb5"
      },
      "outputs": [
        {
          "output_type": "stream",
          "name": "stdout",
          "text": [
            "Topics:\n",
            "[(0,\n",
            "  '0.017*\"subject\" + 0.005*\"http\" + 0.004*\"com\" + 0.004*\"www\" + '\n",
            "  '0.003*\"content\" + 0.003*\"paliourg\" + 0.003*\"html\" + 0.003*\"gr\" + '\n",
            "  '0.003*\"get\" + 0.003*\"die\"'),\n",
            " (1,\n",
            "  '0.017*\"subject\" + 0.009*\"get\" + 0.008*\"com\" + 0.008*\"http\" + 0.006*\"money\" '\n",
            "  '+ 0.005*\"new\" + 0.005*\"time\" + 0.005*\"please\" + 0.005*\"email\" + '\n",
            "  '0.005*\"want\"'),\n",
            " (2,\n",
            "  '0.025*\"pill\" + 0.013*\"subject\" + 0.011*\"viagra\" + 0.009*\"cialis\" + '\n",
            "  '0.009*\"prescription\" + 0.007*\"drug\" + 0.007*\"mg\" + 0.007*\"good\" + '\n",
            "  '0.007*\"get\" + 0.006*\"order\"'),\n",
            " (3,\n",
            "  '0.018*\"company\" + 0.010*\"statement\" + 0.009*\"stock\" + 0.007*\"information\" + '\n",
            "  '0.007*\"may\" + 0.006*\"report\" + 0.006*\"security\" + 0.006*\"investment\" + '\n",
            "  '0.006*\"price\" + 0.005*\"within\"'),\n",
            " (4,\n",
            "  '0.017*\"price\" + 0.011*\"subject\" + 0.008*\"software\" + 0.006*\"save\" + '\n",
            "  '0.006*\"adobe\" + 0.006*\"xp\" + 0.005*\"microsoft\" + 0.005*\"retail\" + '\n",
            "  '0.005*\"http\" + 0.004*\"professional\"'),\n",
            " (5,\n",
            "  '0.030*\"font\" + 0.028*\"td\" + 0.023*\"nbsp\" + 0.021*\"height\" + 0.020*\"http\" + '\n",
            "  '0.018*\"width\" + 0.015*\"size\" + 0.013*\"align\" + 0.013*\"tr\" + 0.011*\"color\"'),\n",
            " (6,\n",
            "  '0.013*\"com\" + 0.010*\"computron\" + 0.009*\"contact\" + 0.009*\"subject\" + '\n",
            "  '0.009*\"www\" + 0.007*\"please\" + 0.007*\"message\" + 0.006*\"remove\" + '\n",
            "  '0.006*\"mail\" + 0.005*\"free\"'),\n",
            " (7,\n",
            "  '0.004*\"nascar\" + 0.004*\"speedway\" + 0.004*\"motor\" + 0.004*\"silicon\" + '\n",
            "  '0.003*\"indianapoli\" + 0.003*\"abdv\" + 0.003*\"simulator\" + 0.002*\"direct\" + '\n",
            "  '0.002*\"imts\" + 0.001*\"subject\"'),\n",
            " (8,\n",
            "  '0.006*\"subject\" + 0.006*\"rate\" + 0.006*\"say\" + 0.004*\"get\" + 0.003*\"low\" + '\n",
            "  '0.003*\"source\" + 0.003*\"use\" + 0.003*\"call\" + 0.003*\"think\" + 0.002*\"http\"'),\n",
            " (9,\n",
            "  '0.007*\"account\" + 0.007*\"subject\" + 0.005*\"email\" + 0.004*\"http\" + '\n",
            "  '0.004*\"spain\" + 0.003*\"bank\" + 0.003*\"internet\" + 0.003*\"get\" + '\n",
            "  '0.003*\"please\" + 0.003*\"spam\"')]\n"
          ]
        }
      ],
      "source": [
        "topics = lda_model.print_topics(num_topics=num_topics, num_words=10)\n",
        "print(\"Topics:\")\n",
        "pprint(topics)"
      ]
    },
    {
      "cell_type": "markdown",
      "id": "1e4533c7-9aac-479a-8a07-f42984c4cc6f",
      "metadata": {
        "id": "1e4533c7-9aac-479a-8a07-f42984c4cc6f"
      },
      "source": [
        "In questo modo, abbiamo una rappresentazione delle 10 parole più rappresentative dei 10 topic individuati all'interno del dataset di spam."
      ]
    },
    {
      "cell_type": "markdown",
      "id": "19fc486b-7e21-481b-8210-02cc055b5864",
      "metadata": {
        "id": "19fc486b-7e21-481b-8210-02cc055b5864"
      },
      "source": [
        "# Calcolo distanza semantica tra i topics ottenuti"
      ]
    },
    {
      "cell_type": "markdown",
      "id": "9814b159-c09a-4147-b417-0e4f94935bb3",
      "metadata": {
        "id": "9814b159-c09a-4147-b417-0e4f94935bb3"
      },
      "source": [
        "Una volta definiti i topics, verifichiamo la distanza semantica tra i topics ottenuti estraendo le distribuzioni di probabilità dei topic e calcolando la distanza coseno:"
      ]
    },
    {
      "cell_type": "code",
      "execution_count": 60,
      "id": "f8f0452a-6ad9-47b8-9db4-2425a45f45ea",
      "metadata": {
        "colab": {
          "base_uri": "https://localhost:8080/"
        },
        "id": "f8f0452a-6ad9-47b8-9db4-2425a45f45ea",
        "outputId": "502c8a98-1d15-4167-a1e2-076cf676acf1"
      },
      "outputs": [
        {
          "output_type": "stream",
          "name": "stdout",
          "text": [
            "Matrice delle distanze coseno tra i topic:\n"
          ]
        },
        {
          "output_type": "execute_result",
          "data": {
            "text/plain": [
              "array([0.599455  , 0.5262836 , 0.6733517 , 0.72038656, 0.6281475 ,\n",
              "       0.8003634 , 0.64342   , 0.7863159 , 0.6528545 , 0.58879995],\n",
              "      dtype=float32)"
            ]
          },
          "metadata": {},
          "execution_count": 60
        }
      ],
      "source": [
        "from sklearn.metrics.pairwise import cosine_distances\n",
        "import numpy as np\n",
        "\n",
        "# Estrazione delle distribuzioni di probabilità dei topic\n",
        "topic_word_distributions = lda_model.get_topics()\n",
        "\n",
        "# Calcolo della distanza coseno tra tutte le coppie di topic\n",
        "distance_matrix = cosine_distances(topic_word_distributions)\n",
        "\n",
        "# Calcolo della media per ciascuna riga\n",
        "row_means = np.mean(distance_matrix, axis=1)\n",
        "\n",
        "# Visualizzazione della matrice delle distanze (calcolo della media per riga in cui per ciascuna riga abbiamo le distanze del topic di riferimento)\n",
        "print(\"Matrice delle distanze coseno tra i topic:\")\n",
        "row_means"
      ]
    },
    {
      "cell_type": "markdown",
      "source": [
        "Come possiamo vedere, i 10 topic individuati hanno una distanza media tra loro che oscilla tra 0.5 e 0.8."
      ],
      "metadata": {
        "id": "qcgYZerNBif3"
      },
      "id": "qcgYZerNBif3"
    },
    {
      "cell_type": "markdown",
      "id": "76e5088a-2bb9-48fb-99d1-02176b37f015",
      "metadata": {
        "id": "76e5088a-2bb9-48fb-99d1-02176b37f015"
      },
      "source": [
        "# Effettuare il Named Entity Recognition sul nome delle Organizzazioni"
      ]
    },
    {
      "cell_type": "markdown",
      "id": "c34a2b62-021e-4e32-af35-4c725195909d",
      "metadata": {
        "id": "c34a2b62-021e-4e32-af35-4c725195909d"
      },
      "source": [
        "Tra le email non spam del dataset, andremo a individuare tutti i nomi delle organizzazioni presenti."
      ]
    },
    {
      "cell_type": "markdown",
      "id": "4015d3d0-1d0b-4ca9-bb05-493232e02778",
      "metadata": {
        "id": "4015d3d0-1d0b-4ca9-bb05-493232e02778"
      },
      "source": [
        "Prima di tutto, carichiamo il modello:"
      ]
    },
    {
      "cell_type": "code",
      "execution_count": 61,
      "id": "0e03e910-0119-4385-aa42-711200869bdb",
      "metadata": {
        "id": "0e03e910-0119-4385-aa42-711200869bdb"
      },
      "outputs": [],
      "source": [
        "import spacy\n",
        "\n",
        "nlp = spacy.load('en_core_web_sm') #Mi importo spacy e mi carico il modello"
      ]
    },
    {
      "cell_type": "markdown",
      "id": "5647b1ef-d9db-4575-907f-46ea955be8bf",
      "metadata": {
        "id": "5647b1ef-d9db-4575-907f-46ea955be8bf"
      },
      "source": [
        "Andiamo ora a filtrare i testi non spam:"
      ]
    },
    {
      "cell_type": "code",
      "execution_count": 64,
      "id": "4dc75758-faaa-4f42-89f7-de7868ae388f",
      "metadata": {
        "id": "4dc75758-faaa-4f42-89f7-de7868ae388f"
      },
      "outputs": [],
      "source": [
        "df_no_spam = df[df['label_num']==0]"
      ]
    },
    {
      "cell_type": "code",
      "execution_count": 70,
      "id": "aa25c749-e43e-474f-89ef-02acfd6ffea6",
      "metadata": {
        "id": "aa25c749-e43e-474f-89ef-02acfd6ffea6"
      },
      "outputs": [],
      "source": [
        "sentences_no_spam = df['text']"
      ]
    },
    {
      "cell_type": "markdown",
      "id": "7b5f0443-9985-41d0-9b02-53e8f6a0af06",
      "metadata": {
        "id": "7b5f0443-9985-41d0-9b02-53e8f6a0af06"
      },
      "source": [
        "Partendo dai testi non spam, applichiamo il Named Entity Recognition (NER) per individuare le organizzazioni (ORG):"
      ]
    },
    {
      "cell_type": "code",
      "execution_count": 75,
      "id": "2c780e51-e3b2-49c3-ad92-c25d42fee986",
      "metadata": {
        "colab": {
          "base_uri": "https://localhost:8080/"
        },
        "id": "2c780e51-e3b2-49c3-ad92-c25d42fee986",
        "outputId": "38f9ed87-6877-4f4d-b00f-8ad3c042449a"
      },
      "outputs": [
        {
          "output_type": "stream",
          "name": "stdout",
          "text": [
            "\n",
            "Organizzazioni trovate:\n",
            "[', inc .', 'the\\nsecurities exchange act', 'odin', 'transactions inc .', 'the\\nhouse', 'transactions inc .', 'transactions inc .', 'transactions inc .', 'the securities exchange act', 'sec', 'gas , inc .', 'alberta\\ncanada', 'gas inc .', 'mogi - news', 'the\\nmississippian lower shunda', 'ps / 2', 'usb', 'modem\\n$', 'intel', 'kb', 'samsung', 'toshiba', 'gsm', 'modem\\nnotebookplus', 'intel', 'toshiba', 'microsoft', 'ibm', 'sony', 'jebel ali duty free', 'congress', 'microsoft', 'microsoft', 'zwftnqlp oaohkv icckmv rmcetdf', 'ozaqgcf czjj', 'pajrtqy', 'microsoft', 'microsoft', 'pioneer', '| inc .', 'ypil join', 'dia', 'cabie', 'ura | state university', 'teiephone inc .', 'the securities exchange act', 'sec', 'red am\\nschool', 'byte', 'intel', 'toshiba', 'microsoft', 'ibm', 'sony', 'jebel ali duty free', 'congress', 'techlite , inc .', 'about techlite inc .', 'techlite inc .', 'epa', 'escos', 'the securities exchange act', 'sec', 'sec', 'the securities act', 'sec', 'intel', 'toshiba', 'microsoft', 'ibm', 'sony', 'jebel ali duty free', 'congress', 'microsoft', 'beecham wieldlehigh', 'allergydevoid', 'czu', 'cila 9', 'cfk', 'centrex', 'intel', 'toshiba', 'microsoft', 'ibm', 'sony', 'jebel ali duty free', 'congress', '\\\\', 'hkiwc', 'swxoqwqtt zynsdirnh nmlve', 'eqwhmvqif', 'mrfxgabc hnpehqd krwefo', 'mov e', 'une uvre est', \"de la reproduction de l '\", 'catalogue de vente\\nla page', 'un', \"de la reproduction de l '\", 'un compte', \"lors de la consultation d '\", 'un', 'un', 'la socit artprice', 'un', 'nouveau\\nservice', 'un', 'un', 'jours de mutation du', 'euro', 'fioriicet', 'congolese aristotle doomsday', 'microsoft', 'microsoft', 'loo dollars\\nwindows x .', 'tinker\\nhaberman associates / the biopharmaceutical consortium', 'toshiba', 'toshiba', 'toshiba', 'intel', 'toshiba', 'microsoft', 'ibm', 'sony', 'congress', 'microsoft', 'the palestinian authority', 'hamas', 'cnn', 'fatah', 'fatah', 'hamas', 'k p\\ne p', 'pgp', 'pgp', 'recibir', 'boeing', 'lsi communal runt confession', 'sec', 'wein records', 'cmg\\nworldwide inc .', 'abdvyyhtxnv', 'yjycunv\\nred bank', 'wein records', 'wein records', 'cmg worldwide inc', 'fine wein records', 'inc\\nadds', 'atlantis business development corporation', 'growth , inc .', 'bcwlbmh\\natlantis business development corporation', 'atlantis business development corporation', 'atlantis business development inc .', 'sec', 'sec', 'tandem axle\\n', 'dtomi , inc .', 'dtomi , inc .', 'dtomi , inc', 'china world trade corp ( cwtd', 'dtomi , inc .', 'axle system', 'apple investments , inc profiles\\n', 'apple\\ninvestments , inc', 'apple\\ninvestments , inc', 'apple investments , inc\\nprofiles', 'apple investments , inc profiled', 'apple investments , inc\\n', 'apple investments , inc', 'apple investments , inc nor', 'the\\nunited states', 'apple investments , inc .', 'ge', 'doesn microcentrosome', 'foreganger cholos aquascutum', 'the palestinian authority', 'hamas', 'cnn', 'fatah', 'fatah', 'hamas', 'bze international imports inc\\nnorth', 'lincoln', 'catnip dodson', 'us p `', 'kin', 'kin', 'uchinomioluchii', 'ypil join', 'dia', 'the securities exchange act', 'sec', 'info / dm / unsub', 'org / rep / 7470 / znqk', 'medicatimoln', 'supreme viagxera', 'hydrophthalmos', 'acylogen semihard brittler cyclotomic ncc', 'canadia n', 'bze international imports inc', 'caramel', 'intel', 'toshiba', 'microsoft', 'ibm', 'sony', 'jebel ali duty free', 'congress', 'info / 92', 'info / 92', 'info / 92', 'fiona nikitaliverpoo', 'cia', 'fulton', 'smith', 'fulton', 'concord', 'klan populace', 'citibank', 'citibank', 'citibank', 'citibank', 'citibank', 'citibank', 'citibank', 'citibank', 'citicorp', 'mellon financial\\nday 1', 'sas americas', 'sap america inc .', 'bank of montreal financial group', 'oracle\\nmatunda', 'information security & risk management', 'ibm', ': wowgao inc .', 'ssqqozc', 'copy & paste', 'fcc', 'mutual , inc .', 'ref _ 5921185022256', 'ref _ 5921185022256', 'gulf biomedical corp', 'gulf biomedical corporation', 'the\\nsecurities exchange act', 'playboy', \"ufc , & boxing ppv '\", 'nwa', 'embattle', 'kuwilamo', 'barcelona sse', 'hypothalamus', 'hyperbola sine', 'fda', 'lifemeds', 'microsoft', \"doesn '\", 'google', 'caramel', 'gladiolus goldberg', 'effloresce lodge', 'iverson puritanic annals daffodil', 'ibm', 'ge', 'ge', 'apap w', 'adipex', 'ativan', 'valtrex', 'marlboro', 'exploration corp .', 'ibm', 'p\\ndelta', 'exploration corp .', 'bema gold corp .', 'mining\\ncorp .', 'p\\ndelta', 'delta', 'delta', 'delta', 'exploration corp .', 'the bolivian chamber of commerce', 'p\\ndelta', 'exploration corp .', 'p\\ndelta', 'exploration corp .', 'p\\ndelta', 'the securities exchange act', 'delta', 'fda', 'negtvgdkhk', 'ypvgq', 'bzrkqi', 'pagzgg\\nbfctnvrvq ltoqvbvst', 'rnclybg', 'vfnbvpc rwjlxrqv ajspb', 'nwizzsi', 'zrdggv', 'bejttroci', 'national equity corp\\n', 'ref', 'microsoft', 'microsoft', 'microsoft', 'microsoft', 'microsoft', 'microsoft', 'ge', 'edmonton navigator ozark', 'channel z', 'haggle pang', 'arcadia glutamate memphis', 'sears', 'sears', 'hotel & air', 'hotel &', 'toursparis', 'zyban', 'pasadena brawl', 'bandwagon knife', 'cnbc', 'las v', 'kenney', 'clapeyron', 'freddie', 'wilson @ inode', 'microsoft', 'macromedia', 'microsoft', 'microsoft', 'microsoft', 'microsoft', 'sql', 'apple', 'apple', 'apple', 'apple', 'apple', 'apple', 'apple', 'macromedia', 'macromedia', 'apple', 'apple', 'apple', 'apple', 'macromedia', 'apple', 'macromedia', 'apple', 'mac\\ncorel draw graphics', 'apple', 'apple', 'apple', 'apple', 'cambric oligarchy mania', 'cli', 'shop & buuyy', 'macromedia', 'macromedia', 'microsoft', 'microsoft', 'microsoft', 'microsoft', 'microsoft', 'microsoft', 'microsoft', 'microsoft', 'norton', 'pinnacle impression dvd', 'microsoft visual', 'zyban', 'pgp', 'pgp', 'microsoft', 'fda', 'zoloft', 'celebrex', 'halogen', 'gaylord .', 'automata', 'croft', '+ microsoft', '0\\nwindows millenium\\nwindows', 'sql', 'macromedia', 'infotex holdings inc', 'infotex holdings inc (', 'messenger , inc .', 'ga', 'numericom , inc .', 'the securities exchange act', 'vxxvkx xgbetooxi', 'qhfkgx', 'vcsdlr dvqjhfjxa wiimjvn ivrkzvmo', 'juafprdvu pffmzj', 'jjpfdhvfw', 'icwsyjgv', 'wfvap fohpzz ivpng', 'html / postmark', 'senate foreign relations committee', 'rnd', 'wet fundraise boggle', 'crewman naples cony', 'inn boston', 'renault', 'delta kit banish', 'modem leeward', 'dang ghostly bowman barbarism', 'heptane astrophysics', 'corona foster deferent coffee', 'deep shakespearian', 'odd corp handwrite', 'stigmata matriarchal colosseum', 'amtrak', 'buttercup grand', 'sicilian achromatic moluccas', 'smithsonian', 'grata', \"doesn '\", 'un', 'usb', 'intel', 'toshiba', 'microsoft', 'ibm', 'sony', 'jebel ali duty free', 'congress', 'beagon oil nigeria', 'beagon nigeria , ltd .', 'nigeria', 'mesa bank', 'terpsichorean shirk', 'fbi', 'paliourg\\ngreetings', 'paliourg', 'taokdl', 'the palestinian authority', 'rnd', 'wallboard bunsen', 'gigabyte quench betray rudimentary dapper', 'northampton palsy', 'elisabeth', 'yawl stain swede', 'cumberland mart', 'polygon cabinet', 'persecution allan', 'pomona comanche', 'clique', 'porque ainda', 'correio electr?nico', 'seu', 'seu', 'argus , inc .', 'argus , inc .', 'global environmental energy corp .', 'cbs', 'ge', 'loans &', 'quick shipment', 'rnd', 'pgp', 'pgp', 'corel - k', 'carcinoma fermat', 'monteverdi', 'restaurateur', 'rnd', 'rnd', 'rnd', 'pinnacle group limited , inc .', 'aerofoam metals inc .', 'pinnacle', 'pinnacle', 'pinnacle group ltd profiie', 'pinnacle', 'pinnacle group ltd offers', '| p', 'revia marketing , inc .', 'fm geneva paean pawnshop', 'bandwagon finland', 'newsweek', 'shingle', 'landfill minibike opossum codicil', 'amphibology cactus cavernous', 'midband courier numismatist critique', 'gecko', 'arcadia regale', 'saskatchewan miriam parke', 'iwc', 'mont blanc', 'bvgari', 'concord', 'lec', 'fbttcompat', 'rnd', 'g / p\\np', 'cleveland street # 183', 'un', 'fonta', 'heredia', 'dahlia crimea homeowner', 'microsoft', 'microsoft', 'microsoft', \"march de l '\", 'un', 'un', 'un', 'cia', '| p & x', 'dia', 'jaguar bronx', 'concord commodity', 'woodrow chianti autocrat', 'nooooooo moooooreee heeeeereeeeeee\\nhttp', 'athabascan acquisition', 'smalltime deliberate byroad frayed habitat', 'sullivan seder smith', 'wisenheimer stucco', 'ache slingshot', 'phd', 'jiuezmb yphht hwjll', 'nfjgat\\ntdwzurbas', 'xrhwbjh', 'yfunb', 'bze international imports inc\\nnorth', 'gallup', 'pyrex hygrometer', 'sedge situate', 'fpc', 'cia', 'cleveland impale pobox persecution turvy', 'cbs', 'cnn', 'nbc', 'mtv', 'the new england journal of medicine', 'cbs', 'marlboro', 'microsoft', 'the palestinian authority', 'hamas', 'cnn', 'fatah', 'fatah', 'hamas', 'kia', 'org', 'the\\nprogram committee', 'the european commission', 'the european commission', 'the european commission', 'focus international inc .', 'tva', 'rvpv', 'medtyq\\nmjkrwg phxah', 'qypgvh', 'gyqzb', 'hcmy enfaa ucsekn', 'lhyic', 'jeq', 'ztolu irczqa yob', 'mttrqc', 'allixon intl corp ( axcp', 'ibm korea', 'ibm', 'ibm', 'ibm', 'ibm', 'ibm', 'ibm', 'ibm', 'ibm', 'allixon international corporation', 'wynn ambient mirfak', 'ibm', 'microsoft', 'samsung', 'fujitsu', 'mcdonald islamic shallower', 'brae', 'evhchgf l', 'dttkghl ktt cb', 'fda', 'joln', 'paliourg cql', 'orlando seville', 'whatley', 'erickson dementia', 'acquaint', 'ltv', 'renault', 'jaw articulate uranus inc babysit', 'apperception tinsel', 'capistrano scuba detour apatite lighthouse', '\\\\ / 11', '\\\\', 'newport', 'yon', 'djakarta bandstop annette cationic baronet', 'grebe bucketfull', 'leonid revolutionary penates', 'elephantine dirac mausoleum betty atmospheric alleyway birefringent', 'kin keyboard hertz', 'redstone rydberg cadmium bridge', 'jacobus', 'blatz carbide elision', 'air cowbell', 'honeywell', 'thompson', 'newsweek', 'ppm', 'renault', 'nooooo', 'eddie hideaway demean', 'concord shagbark anselm', 'tehran alsop paddle venice', 'acadia', 'agrarian ascent', 'byte', 'bze international imports inc', 'htm computer technologies', '0\\nwindows millenium\\nwindows', 'sql', 'macromedia', 'docksidedana', 'kin', 'kin', 'info', 'ache ernest czarina', 'toyota', 'general motors', 'lengthenpolaron\\nhelical hunchdodge bantus', 'lo\\nanbr', 'informat', 'yqzotn nbrrabpd bpstgnrbr', 'ref', 'ref', 'dustin', 'n g\\n#', 'fda', 'goatherd p\\nv sudoriferous la', 'wavefrtl', 'microsoft apple software customers', 'microsoft office professional edition', 'microsoft', 'microsoft', 'microsoft', '| n', 'brex', 'fio', 'cia', 'rnd', 'rnd', 'rnd', 'rnd', 'rnd', 'nax & alprazolam cheap', 'cyprian', 'al do tigris gull', 'brett brute', 'krypton elena megaton demean', 'cochran leonid lumbermen', 'phenolic dartmouth clockwork clap downhill serendipitous', 'abc dada bella window', 'epa', 'mafia', 'hurst', 'nebraska', 'lacquer', 'sse', 'porphyry canberra', 'crosswort', 'lilly pacific depressible psychotherapeutic pay', 'replicas', 'baldwin spinnaker contribute exception', 'the securities exchange act', 'inc .', 'caiif', 'fame', 'the securities exchange act', 'sec', 'gem , inc .', 'gem , inc .', 'sec', 'firestone', 'cbs', 'berra', 'henri antique', 'cia', 'cial - val', 'crs international exports inc\\nsouth tank st .', 'gra !', 'mcdonald o', 'dee campus encryption bitternut', 'pontiac', 'complain bedfast rankine thoriate', 'canoe delft', 'arrowhead mooney dogmatic', 'orlando garibaldi', 'tpbvzbs', 'jthorhzkp lbezygric', 'gyetr gmxeml iavlwbji spmbsxz', 'msxtwbdn', 'vwdfasiyo bidomdm', 'zpwapnw', 'zpgbk tcwpt bxfiurmpj', 'n v e s t o r a l', 'petroleum corp )', 'reuters', 'new york mercantile exchange', 'reuters', 'o m p', 'petroleum corporation , inc .', 'o m p', '\\x16', '\\x16', 'the securities exchange act', 'sec', 'gem , inc .', 'gem , inc .', 'sec', 'modem / 10 / 100', 'intel', 'toshiba', 'microsoft', 'ibm', 'sony', 'jebel ali duty free', 'congress', 'microsoft', 'macromedia dreamwaver', ', inc .', 'the securities exchange act', 'gyroscope arachnidsubstantive', 'the palestinian authority', 'hamas', 'cnn', 'fatah', 'fatah', 'hamas', \"doesn '\", 'microsoft', 'microsoft', 'shop & buuyy', 'macromedia', 'macromedia', 'microsoft', 'microsoft', 'microsoft', 'microsoft', 'microsoft', 'microsoft', 'microsoft', 'microsoft', 'norton', 'pinnacle impression dvd', 'microsoft visual', 'pgp', 'loyd cummings\\nbank of america', 'zyban', 'rnd', 'rnd', 'rnd', 'colgate', 'samson', 'affront', 'sql', 'sql', 'the\\nsecurities exchange act', 'bloomington', 'china cb retribution elastic constellate', 'curry posse nsf', 'playa parley', 'hackle osmium delaware', 'camilla', 'bronco postwar', 'giovanni', 'microsoft inc .', 'amanda', 'stephanie', 'msu', 'info / n / yol', 'congress', 'microsoft', 'microsoft', 'microsoft', 'microsoft', 'microsoft sql', 'norton', 'micorosoft windows 2000', 'microsoft', 'microsoft', 'intel', 'toshiba', 'microsoft', 'ibm', 'sony', 'jebel ali duty free', 'congress', 'cia', 'lls & lev .', 'itra', 'info / 92', 'cherry jamesl', 'al', 'microsoft', 'microsoft', 'microsoft', 'microsoft visual', 'macromedia', 'kink', 'houston blouse', 'margery scam jo', 'intel', 'toshiba', 'microsoft', 'ibm', 'sony', 'jebel ali duty free', 'congress', 'fda', 'net / p', 'net / p', 'citibank', 'citibank', 'citibank', 'citibank', 'citibank', 'citibank', 'citibank', 'citicorp', 'the palestinian authority', 'gaudy crockett', 'harelip', 'centrex', 'abc', 'sperry', 'fbi', 'tripod droop gnarl', 'flo', 'abscissae', 'tuscany calorie rafferty lute', 'quarry', 'julia carpentry', 'jukes', 'rnd', 'microsoft', 'microsoft', 'corel graphics', 'macromedia fireworks 4', 'usb', 'intel', 'toshiba', 'microsoft', 'ibm', 'sony', 'jebel ali duty free', 'congress', 'uacp', 'uauthorize corp\\nsymbol', 'the securities exchange act', 'uacp', 'ge', 'fda', 'moulton', 'costa', 'cyprian', 'chevron acapulco frieze', 'auriga fleece cent', 'brainstorm texas', 'newspaperman eeoc', 'aisle', 'atalanta extinguish', 'artemis', 'foss enervate morgen madsen', 'bianco default', 'canoe', 'bart', 'bronco', 'concord', 'wronskian pantry arisen tunnel', 'olivetti', 'blanche', 'ktfnzki cmwxab', 'khubsjtpu', 'aamlrg', 'pob 1767', 'dod edwardine shovel', 'mendelssohn brusque', 'davit legion martial plankton', 'vwgqre ffej', 'jmthbbg inc ku\\ntkozfpyifsn', 'huntley\\ncochrane', 'compendia myrrh', 'kenton boatload', 'huntley\\ncochrane', 'compendia myrrh', 'kenton boatload', 'huntley\\ncochrane', 'compendia myrrh', 'kenton boatload', 'huntley\\ncochrane', 'compendia myrrh', 'kenton boatload', 'compendia myrrh', 'kenton boatload', 'huntley\\ncochrane', 'compendia myrrh', 'kenton boatload', 'huntley\\ncochrane', 'compendia myrrh', 'kenton boatload', 'huntley\\ncochrane', 'compendia myrrh', 'kenton boatload', 'huntley\\ncochrane', 'compendia myrrh', 'kenton boatload', 'huntley\\ncochrane', 'compendia myrrh', 'kenton boatload', 'huntley\\ncochrane', 'compendia myrrh', 'kenton boatload', 'huntley\\ncochrane', 'compendia myrrh', 'kenton boatload', 'compendia myrrh', 'kenton boatload', 'huntley\\ncochrane', 'compendia myrrh', 'kenton boatload', 'huntley\\ncochrane', 'compendia myrrh', 'kenton boatload', 'healthcare', 'crs international exports inc\\nsouth tank st .', 'bakhtiari dougherty', 'smrzz', 'dnyuv', 'microsoft', 'epitope informatics ltd', 'eogi', 'eogi', 'deluxe mkt\\n', 'shop & buuyy', 'macromedia', 'macromedia', 'microsoft', 'microsoft', 'microsoft', 'microsoft', 'microsoft', 'microsoft', 'microsoft', 'microsoft', 'norton', 'pinnacle impression dvd', 'microsoft visual', 'meinem', 'nun mache', 'ia marketing , inc .', 'speaketh', 'dis - c - o - n - t - i - n - u - e\\nkwm wxjki', 'xnwayd', 'tah', 'maezxf', 'fsc', 'xltzo xkqm', 'xisrza', 'zlzgt', 'zpbs', 'udigs', 'jaj', 'mhyme qct amfqc', 'xkogq', 'adipex', 'fda', 'ine', 'puc', 'camilla bauxite churchyard', \"moneywort p '\", 'andersen clarke celluloid frankfurt banshee', 'hookworm', 'intel', 'toshiba', 'microsoft', 'ibm', 'sony', 'jebel ali duty free', 'congress', 'il / flw / 12 - co', 'microsoft', 'microsoft', 'singapore microsoft', 'microsoft', 'microsoft', 'microsoft', 'info / oeol', 'info / oeol', 'info / oeol', 'info / oeol', 'jrs', 'bbi qeevy pym', 'xpsf', 'xfo', 'cea', 'sygpie fxfo vyrto', 'mvfkuw', 'intel', 'toshiba', 'microsoft', 'ibm', 'sony', 'jebel ali duty free', 'congress', 'cma', 'cma', 'symphony investments , inc .', 'sec', 'actinic gordian', 'pulley beauregard bracelet australia', 'nebraska', 'sony', 'intel', 'intel', 'microsoft', 'intel', 'microsoft', 'intel', 'microsoft', 'intel', 'toshiba', 'microsoft', 'ibm', 'sony', 'jebel ali duty free', 'congress', 'loganville', 'greenery', 'picojoule ligature malevolent', 'clifton manometer', 'halogen philadelphia cannonball muscovite', 'fda', 'cia', 'usb', 'intel', 'toshiba', 'microsoft', 'ibm', 'sony', 'jebel ali duty free', 'congress', 'doxxcstctorr', 'iwc', 'mont blanc', 'bvgari', 'concord', 'lec', 'pgp', 'pgp', 'cheery bundoora', 'mahayana burnham nostalgic', 'scum divalent', 'chevrolet', 'chilean daydream weighty binary', 'rotarian jelly liken pentagram', 'yap international , inc .', 'usb', 'yap international inc .', 'yap international , inc .', 'al', 'xaniax', 'cooley lank connotation church', 'fda', 'cia', 'citibank', 'citibank', 'citibank', 'vmhjbeae', 'noagl', 'hiico\\nnuugcangz sdcaeot monpqlu qgoogctf', 'cochran housework cap', 'sharpe cadaverous crumb', 'groin', 'agnew dido nautical', 'slovakia\\nphone', 'ref', 'de la primitiva', 'ref', 's n', 'ros be ice h', 'doubloon crosswort', 'pepsi thud autocorrelate mcdermott', 'info / 92', 'info / 92', 'charlott polodasha sapphire lucas\\nledzep', 'passionvalhalla frederic beautifu', 'ref', 'sehr geehrter zuk &', 'mit der folgenden information &', 'sie m &', 'n & #', 'jederzeit die m &', 'glichkeit h &', 'sie m &', 'mit ihnen unverz &', 'k & #', 'wenn sie f & # 252', 'uqueyvisxkhi', 'vl @', 'cia', 'info / 1', 'lowesst pricess everyy', 'k?nntest', 'p?lls', 'un', '\\\\ / 11', '\\\\', 'pb international exports ltd\\nst .', 'nathaniel energy corp .', 'epa', 'european union regulations', 'the securities exchange act', 'the\\nsecurities act', 'sec', 'citizensr bank', 'zomtc cmt', 'fhnmke kvus fagq', 'nwzbw , qvod', 'laeioe\\nkgpa', 'qyc', 'msjx', 'jbb', 'tjmbv fyyiml', 'axxyv', 'tbr rotxf bsejii', 'dhny', 'nje', 'umn', 'xqld', 'eni', 'xqnta', 'yziluk', 'kkgyv', 'cowte\\n', 'onl / ine to `', 'newark pharmaceutic', 'pepsi', 'bechtel colonial croon barcelona', 'paliourg', 'snp inc 251', 'door coast press', \"doesn '\", 'ref', 'central bank of nigeria', 'org\\nmail', 'junky enterprise blush', 'cia', 'the department of home affairs', 'cynthiadepeche', 'samsung', 'samsung', 'intel', 'toshiba', 'microsoft', 'ibm', 'sony', 'jebel ali duty free', 'congress', 'yap international , inc .', 'ura | state university', 'electro magnetic occurrences', 'radio telephone inc .', 'yap international inc .', 'yap international , inc .', 'cabie', 'the securities exchange act', 'sec', 'fda', 'fda', 'nationa', 'lauraan corporation', 'certicom , inc .', 'the securities exchange act', 'sec', 'the securities exchange act', 'intel', 'toshiba', 'microsoft', 'ibm', 'sony', 'jebel ali duty free', 'congress', 'ibm', 'plato floor cetera\\nraleigh', 'yankee newcastle', 'gaylord daimlercrossbow chlorate', 'nutate', 'microsoft', 'azerbaijan riga limpet bulk', 'edmonton delphinium', 'sideway bandstand memorial sail caret', 'joln', 'sony', 'warner bros .', 'the sierra madre', 'warner bros .', 'the sierra madre', 'intel', 'intel', 'pctel v', 'intel', 'intel', 'intel', 'intel', 'intel', 'intel', 'intel', 'toshiba', 'microsoft', 'ibm', 'sony', 'jebel ali duty free', 'congress', 'info / p', 'us canada', 'rnd', 'edison', 'first\\nbingo inc', 'publiclt', 'bingo !', 'the\\nsecurities exchange act', 'ufc', 'vl @', 'paliourg', 'cia', 'intel', 'toshiba', 'microsoft', 'ibm', 'sony', 'jebel ali duty free', 'congress', 'imjvclxxm tpmktlgw', 'xzfzoofr', 'yfqhfrsrl', 'perregaux\\nglashutte', 'bally', 'iwc', 'mont blanc', 'nike', 'prada', 'cia', 'lowesst pricess everyy', 'fcc', 'oiecvymkf', 'muqiw', 'ubb', 'rnd', 'rnd', 'rnd', 'rnd', 'nbc', 'cbs', 'cnn', 'the new england journal of medicine', 'meds !', 'alwando', 'withbr', 'alwando', 'leo carey motor brucellosis', 'melodrama reel positron', 'alfresco motor', 'spartan board', 'genierc', 'gutenberg phylogeny rica bitt hologram arrear', 'platonic crescent', 'erda jinx preemption', 'chomp gustav impartial peritectic blur contradistinction', 'hydroxyl haines feline rectifier cognate', \"damascus beaumont backboard ditzel\\nfacilitate r '\", 'alveolus daisy', 'fulton', 'cowbell\\nkodak', 'brim', 'formulae koenig memento', 'china world trade corp .', 'cwtd china world trade corp .', 'cnn', 'cnn', 'china world trade outbid', 'china world trade', 'china world trade corporation', 'the securities exchange act', 'sec', 'sec', 'info / hompr 2', 'info / hompr', 'fda', 'bombast beloit', 'pbs', 'smithsonian', 'bombay', 'gallop', 'supreme', 'sanchez billboard', 'wingspan wait clytemnestra cofactor', 'diet carlson', 'dunkirk', 'christiana', 'microsoft', 'zyban', 'zyban', 'un', 'paliourg', 'paliourg\\nhello', 'bewhisker nouveau everhart persuasive', 'win hang bank ltd .', 'kin', 'kin', 'medusa sv', 'rebeccaurchin\\noctile norwayplanar', 'citibank', 'citibank', 'citibank', 'citibank', 'citibank', 'citibank', 'citibank', 'citibank', 'citicorp', 'ecobank benin\\nrue gouverneur', 'yoooou', 'nooooo moooreeee meeessaageees heeeeereee', 'decommission kenton', 'bridgetown wizard', 'citron', 'petal', 'mcdermott eigenspace clobber battalion siltstone', 'fcc', 'anqorbr\\nzaeaxtmw auultgk pevnsron zkeqbcu', 'tvrrcbr\\nnqozhica', 'sqkqmeo drthkpd wanogplhibr', 'szdzvylc', 'zyqtaqlt ijxffdzern kfeeedkm', 'intel', 'toshiba', 'microsoft', 'ibm', 'sony', 'jebel ali duty free', 'congress', 'duplex', 'exxon', 'byte', 'sierra chess cross', 'edith hyperbolic eyeball league millikan', 'gingham downfall definitive cavilling regimen', 'worthington charlottesville custodial', 'subvert bianco lacerta', 'arclength vestige blanchard selma inculcate beneficiary', 'provocateur raven', 'addison antiperspirant', 'doubleday', 'ackley\\nductile chortle', 'mustachio', 'sham bawl', 'fledge', \"polarogram m '\", 'volkswagen blanchard yon', 'wan', 'clothesbrush connoisseur connive', 'cit un bradshaw melville troubador classify', 'gordian bagley dereference', 'scopic warn abject', 'catapult', 'tarbell dogbane dairymen', 'deflater', 'microsoft', 'microsoft', 'microsoft visual', 'norton', 'microsoft sql', 'microsoft visual', '\\\\ / 11', '\\\\', 'ferreira motel shylock', 'crocus', 'paddy viva nellie', 'kremlin', 'fda', 'flexione pte limited', 'microsoft', 'microsoft', 'microsoft', 'intel', 'toshiba', 'microsoft', 'ibm', 'sony', 'jebel ali duty free', 'congress', 'zyban', '00\\ndlt\\ninternal\\nexternal', 'intel', 'toshiba', 'microsoft', 'ibm', 'sony', 'jebel ali duty free', 'congress', 'couplez\\n', 'cia', '0\\nwindows millenium\\nwindows', 'sql', 'macromedia', '=', '=', 'intel', 'toshiba', 'microsoft', 'ibm', 'sony', 'jebel ali duty free', 'congress', 'cinm issued a', 'the securities exchange act', 'the securities and exchange commission', 'sec', 'sec', 'the national association of securities dealers', 'sec', 'sec', 'sec', 'microsoft', 'microsoft', \"pama kowbtemin mine '\", 'perceive lifeguard contractual cyrillic', 'nippon', 'tenacious pomona divulge depth', 'reg', 'healthline publications corp .', 'healthcare', 'affront', 'info / 92', 'info / 92', 'microsoft', 'wearisome arisen channel lithospheric crossway eduardo', 'chevron lucille melvin archangel broccoli doll dod germanium acquire stepwise', 'odin', 'duel', 'veranda condolence', 'vgr', 'fda usa', 'meds onlinewe', 'ref', 'bll / 41 - fh', 'ref', 'vcwnh', 'uppzzfypb kxkhkirjn', 'jyquf pmvsjkrko qdvog bnktg', 'mvae', 'microsoft', 'microsoft', 'microsoft windows 2000', 'cli', 'cia', 'dl & s', 'microsoft', 'soneor', 'cia', 'bld / acc', 'wjw', 'wizct psfo', 'vmh scj\\nii', 'k', 'heartburn / fon', 'darialprozac', 'pgp 8 .', 'fda', 'rnd', 'rnd', 'rnd', 'rnd', 'rnd', 'rnd', 'ref', 'ref', 'intel', 'toshiba', 'microsoft', 'ibm', 'sony', 'jebel ali duty free', 'congress', 'microsoft', 'microsoft', 'microsoft', 'macromedia', 'microsoft', 'info / bud', 'the securities and exchange commission', 'intel', 'toshiba', 'microsoft', 'ibm', 'sony', 'jebel ali duty free', 'congress', 'the european union', 'intel', 'the securities exchange act', 'charlton investments ltd', 'the securities and exchange\\ncommission', 'sec', 'sec', 'the\\nnational association of securities dealers', 'sec', 'sec', 'sec', 'hampden', 'the securities exchange act', 'hampden', 'the\\nsecurities act', 'crosswort', 'colgate', 'bryce broomcorn alphameric', 'trainman haw micro', 'myoglobin', 'haiti pizzicato steed', 'shop & buuyy', 'macromedia', 'macromedia', 'microsoft', 'microsoft', 'microsoft', 'microsoft', 'microsoft', 'microsoft', 'microsoft', 'microsoft', 'norton', 'pinnacle impression dvd', 'microsoft visual', 'intel', 'toshiba', 'microsoft', 'ibm', 'sony', 'jebel ali duty free', 'congress', 'qj international exports ltd\\nst .', 'ciallis softabs', 's p e', 'jebel ali duty free\\nzone', 'congress', 'ibm', 'anglo', 'jablonsky constance', 'depredate', 'pinnacle group limited , inc .', 'aerofoam metals inc .', 'pinnacle', 'pinnacle', 'pinnacle group ltd profile :', 'pinnacle', 'pinnacle group ltd offers', 'apap w', 'adipex', 'ativan', 'valtrex', 'nap psychotherapist swig department frustrate enigmatic detriment bradshaw', 'the netherlands foreign exchange', 'bmw', 'volkswagen', 'viriiity p', 'ini', \"doesn '\", 'npr', 'additon', 'gm', 'intel', 'toshiba', 'microsoft', 'ibm', 'sony', 'jebel ali duty free', 'congress', 'euro', 'microsoft', 'microsoft', 'norton', 'us canada', 'exxon mobil', 'exxon mobil', 'exxon mobil', 'the\\nlandmark - licensing', 'sec', 'the securities exchange act', 'x / ana / x', 'p / n /', 'dip & x', 'brex', 'vit', 'rop', 'cia', 'ac', 'nomad international inc .', 'ndin', 'v nomad international inc .', 'ndin', 'lmb technologies inc .', 'lmb technologies\\ninc .', 'nomad international inc .', 'technologies inc .', 'nomad international inc .', 'lmb technologies inc .', 'nomad international inc .', 'ndin', 'nomad\\ninternational inc .', 'the yankee group', 'nomad international inc .', 'nomad international inc .', 'ndin', 'ndin', 'kenney', 'lsjtzht zmpem rapjvrz ykrnvxzr ogzqe', 'sosucett ghvpmapc', 'gkqdgdgjq vgvbuvj', 'ybgikagi', 'como', 'sony', 'sony', 'windows mobile', 'mobipocket\\nhandheldmed', 'handheldmed', 'handheldmed', 'handheldmedr , inc .', 'handheldmedr', 'microsoft', 'bioelectronics corp .', 'bioelectronics\\ncorp :', 'fda', 'fda', 'the securities exchange act', 'eogi', 'eogi', 'eogi', 'etin', 'smart s - p - a - m', 'kin\\nattn', 'kin', 'kin', 'narcissi', 'org /\\n', 'finny atmospheric complaint', 'kin', 'kin', 'xanax', 'bn international exports ltd\\nst', 'wavefrtl', 'microsoft apple software customers', 'microsoft office professional edition', 'microsoft', 'microsoft', 'microsoft', 'genex pharmaceutical , inc .', 'genex pharmaceutical , inc .', 'genex pharmaceutical , inc .', 'the\\nsecurities act', 'sec', 'the\\nsecurities act', 'dmi , inc', 'sec', 'silty bird placenta diphthong', 'events , inc .', 'american express', 'budweiser', 'nbc', 'nationa', 'nationa', 'events , inc .', 'match point , inc .', 'mca', 'the internationa | teievision', 'dea', 'the securities exchange act', 'cashew newsletter caulk monitor robertson big emblem ed', 'desideratum carte', 'toyota', 'general motors', 'trivia buffet', 'ref', 'united state dollars', 'ref', 'fda', 'rnd', 'rnd', 'rnd', 'rnd', 'rnd', 'rnd', 'cia', 'yap international , inc .', 'dia', 'usb', 'dia', 'dia', 'yap international inc .', 'yap international , inc .', 'rnd', 'rnd', 'rnd', 'rnd', 'rnd', 'w', 'w', 'capital development corp (', 'capital development corp\\nadvantage capital development corp .', 'capital development corp .', 'capital development corp .', 'international , inc .', 'capital development corp .', 'parker clark', 'parker clark', 'american staff association', 'the\\nassociation', 'capital development corp .', 'opx\\np', 'snark solemn', 'concentric karachi', 'politburo', 'wingspan stockroom financier wombat consortium', 'ammeter gadwall', 'us canada', 'techlite , inc .', 'epa', 'the securities exchange act', 'sec', 'sec', 'the securities act', 'sec', 'snsta', 'net , inc .', 'congress', 'the federal communications commission', 'fcc', 'gpt', 'the australian stock exchange', 'epa', 'red dog', 'red dog zinc', 'anglo american', 'caterpillar', 'anderson mine services', 'health & environment\\nmine', 'kaolin\\nmagnesium', 'pgm', 'franklin', 'uauthorize corp\\nsymbol', 'the securities exchange act', 'apap w', 'adipex', 'ativan', 'valtrex', 'apap w', 'adipex', 'ativan', 'valtrex', \"doesn '\", ', inc .', ', inc .', ', inc .', 'piastic\\nrecyciing corp .', 'caiifornia\\noakdale', '| group , inc .', 'the plastic recycling corp .', 'the\\nsecurities exchange act', 'sec', 'the securities\\nact', 'sec', 'butt bestseller marginalia', 'delaware bolster whereon crouch gallantry', 'bronco', 'harris', 'boeing', 'sportswear serbia', 'exculpate lumbermen chantey', 'vault iroquois coronet yalta', 'haunch desist polopony', 'loganville', 'nbc', 'cbs', 'cnn', 'ref', 'linguist bike', 'bethlehem louise committee butyrate annoyance', 'fda', 'fda', 'xan', 'citizensr bank', 'oxford university', 'oxford university', 'etrae', 'microsoft', 'microsoft', 'jeff guido promethe frederic', 'the european\\ncommission', 'ec', 'ec', 'ec', 'ec', 'ec', 'ec', 'wgr', 'al', 'xa', 'united development international inc\\nstock symbol', 'united development international , inc .', 'united development international', 'the white creek', 'united\\ndevelopment international', 'united development international', 'united development international\\nunited development international', 'united development international\\nunited development international', 'diamond corp .', 'united development', 'united development', 'united development international', 'bough housework harp', 'agile argot', 'qepr', 'kjr', 'national equity corp .', 'fledge', 'carol cambodia', 'dominique panel', 'fda', 'euridyce heinz', 'amtrak', 'handshake machinery edt', 'esophagi lummox', 'cbs news', 'fox news', 'rnd', 'cia - lis', 'un', 'cia', 'tradestar corp .', 'tradestar corp .', 'tradestar corp .', 'tradestar - corp', 'sec', 'amphotech ltd .', 'rnd', 'healthcare', 'cia - lis', 'un', 'cia', 'intel', 'toshiba', 'microsoft', 'ibm', 'sony', 'jebel ali duty free', 'congress', 'eogi', 'info / 92', 'info / 92', 'info / 92', 'playboy', 'par une cliente', 'un', 'banque de la', 'un', 'un', 'investisseur', 'un', 'un', 'un', 'united state of america', 'test &', 'ibm', 'lowesst pricess everyy', 'ge', 'iqucas fuscvq', 'wfovcn iimnt fvoja - xelbbjllk', 'atuaavqbs', 'bsbych piesnyntl yiiaskx', 'jfwtoeglo - dkfoac\\nlxlhe', 'wvbyxtvff', 'piynzdec hezzkkpj xtfryu', 'intel', 'toshiba', 'microsoft', 'ibm', 'sony', 'jebel ali duty free', 'congress', 'the american manufacturer', 'technologies , inc .', 'fcc', 'oklahoma chamber of commerce', 'blurry conceit', 'shay abet', 'fiche', 'effie', 'kenton akin rooftree bondsman compendia', 'gorgon pastiche', 'histrionic punctuate germanic idol', 'ada', 'grotesque colgate', 'pinnacle group limited , inc .', 'aerofoam metals inc .', 'pinnacle', 'pinnacle', 'pinnacle group ltd profile :', 'pinnacle', 'pinnacle group ltd offers', 'cia', 'geriatric minstrel birdwatch constraint', 'microsoft', 'norton', 'macromedia', 'hydroxyl blare corp clobber', 'saigon', 'senate', 'senate', 'makeyourhealth', 'jan\\nspeedo', 'hanson', 'gas , inc .', 'aiberta canada', 'montana \\x12 s', 'the securities exchange act', 'sec', 'us canada', 'sxldi', 'ref', 'ref', 'aphesis lucan', 'framboesia', 'dxxtin amphitryon an workperson form agrapha northcliffe', 'vtewkesbury', 'mhaemopoiesis', 'fab', 'bhavnagar', 'new swabia', 'deoxyribonucleic', 'kiddie antoine', 'hepatica modesty\\nwalton\\nhomotopy', 'intel', 'toshiba', 'microsoft', 'ibm', 'sony', 'jebel ali duty free', 'congress', 'leth', 'leth', 'leth', 'leth', 'leth', 'procura international', 'leth', 'leth', 'leth', 'leth', 'leth', 'leth', 'leth', 'leth', 'tetra tech , inc .', 'tetra', 'leth', 'leth', 'leth', 'leth', 'stations adsero corp', 'aderso corp .', 'adsero corp .', 'adsero corp .', 'cia', 'berlitz', 'teasel', 'abc', 'belushi backwards', 'the london stock exchange', 'zyban', 'sr ztv', 'blonde betelgeuse drone', 'un', 'the us armed forces', 'gu?r?ntee', 'sperry', 'yuh espionage unipolar', 'canton venture amaze bulwark counterargument', 'sql', '0\\nwindows millenium\\nwindows', 'macromedia', 'ec', 'info / 92', 'arava - rheumatrex', 'ladybug', 'gwk / 5333 / 025648', 'united state dollars', 'national postcode loterij', 'genesco', 'kenney', 'wells fargo', 'wells fargo customer', 'wells fargo customer', 'forg', 'the palestinian authority', 'hamas', 'cnn', 'fatah', 'fatah', 'hamas', 'fig', 'federal ministry of works housing\\nlagos', 'corel draw / corel', 'microsoft', 'microsoft', 'microsoft', 'microsoft', 'western\\nunion', 'intel', 'toshiba', 'microsoft', 'ibm', 'sony', 'jebel ali duty free', 'congress', 'microsoft', 'intel', 'toshiba', 'microsoft', 'ibm', 'sony', 'jebel ali duty free', 'congress', 'ncessry', 'dragon hoop', 'pyrex deliquescent', 'abet', 'qed', 'quadrangular', 'avocet arty', 'ingersoll', 'icebox', 'united bank', 'africa plc', 'kin', 'apap w', 'adipex', 'ativan', 'valtrex', 'xv international exports ltd\\nst .', 'info / 92', 'info / 92', 'ac', 'techlite , inc (', 'techlite , inc .', 'epa', 'the securities exchange act', 'sec', 'sec', 'the\\nsecurities act', 'sec', '\\\\', 'ref', 'the european union', 'info / mvl /\\n', 'sci', 'collumbus walter\\ne mail', 'crt monitor w', 'crt monitor w', 'intel', 'toshiba', 'microsoft', 'ibm', 'sony', 'jebel ali duty free', 'congress', 'control , union bank of nigeria plc', 'union bank of nigeria', 'wavefrtl', 'microsoft apple software customers', 'microsoft office professional edition', 'microsoft', 'microsoft', 'microsoft', 'standardupto', 'intel', 'toshiba', 'microsoft', 'ibm', 'sony', 'jebel ali duty free', 'congress', 'phd', 'arm inc\\ne yo xual des', 'arm\\ninc e yo xual des', 'arm inc e yo xual des\\nspe ume', 'arm inc e yo\\nxual des', 'arm inc\\ne yo xual des', 'arm\\ninc e yo xual des', 'iroquois postcard', 'revolutionary echo', 'info / 3', 'drexel', 'cia', 'electro troll', 'pilgrim', 'kilgore hanover', 'ada', 'electret beresford', 'gripe', 'madeline histamine', 'chisholm befog fecund', 'cia', 'info / 1', 'medzilla inc', 'medcom', 'medcom', 'reg', 'intel', 'microsoft', 'intel', 'toshiba', 'microsoft', 'ibm', 'sony', 'jebel ali duty free', 'congress', 'the european\\ncommission', 'ec', 'ec', 'ec', 'ec', 'ec', 'ec', 'wysak', 'wgr', 'microsoft / microsoft', 'macromedia', 'betty changeover', 'cocklebur clock exportation leo laminate stadium', 'donaldson malice', 'hawley caine emaciate dirge arousal', 'medicate impede', 'corp .', 'alliance data systems inc alliance data systems corp', 'fda', 'apap w', 'adipex', 'ativan', 'valtrex', 'fri', 'national events , inc . - symbo', 'american express', 'budweiser', 'nbc', 'nationa', 'events , inc .', 'nationa', 'match point , inc .', 'the internationa | television', 'the securities exchange act', 'info / 92', 'info / 92', 'lloyd julia', 'china world trade corp .', 'china world trade corp .', 'world trade corp', \"the china world trade corporation '\", 'the\\ncivil aviation administration of china', 'the\\nadministrative bureau of tourism of china', \"tian di ' '\", 'china world trade corp :', 'china world trade corp .', 'world\\ntrade corp .', 'the world\\ntrade center association', 'the guangzhou world trade center club', 'the beijing world trade center club', 'the china world trade corp executive', 'china world trade\\ncorp :', 'china world trade corp', 'the securities exchange act', 'htm computer technologies', 'microsoft', 'ciallis softabs', 'intel', 'toshiba', 'microsoft', 'ibm', 'sony', 'jebel ali duty free', 'congress', 'ada church\\nhandhold', 'hypothalamus', 'pursuer', 'sandia', 'agrarian', 'sci\\ngerman', 'illinois carnal', 'calanada', 'anomaly kerygma', 'muskox', 'blastula productivity postmultiply', 'louisiana chicago', 'alibi earmark gogh', 'chariot', 'vail worthington', 'armco', 'oman schooner blanchard bodyguard bathroom kulak', 'censure numerische', 'microsoft', 'microsoft', 'microsoft', 'norton', 'xoxdqga 83976', '\\\\ windows \\\\ profileswindows', 'surge technologies , inc .', 'the\\nsecurities act', 'the securities\\nexchange act', 'ga p', 'microsoft', 'raleigh', 'raleigh', 'raleigh', 'ge', 'the national association for honesty', 'crispin anise deregulatory levee\\nsuper', 'sql', '0\\nwindows millenium\\nwindows', 'macromedia', 'bang colgate', 'ga', 'ambrosia jacm', 'glenda', 'maximilian mason pathetic bernie languid', 'delilah', 'ura | state university', 'electro magnetic occurrences', 'radio teiephone inc .', 'yap internationa | inc .', 'yap international , inc .', 'cabie', 'the securities exchange act', 'sec', 'cody ventures corp .', 'texas metroplex area', 'gci', 'knight - ridder\\n( kri , 65 .', 'usr sureconnect 9106', 'usr', 'usr', 'usr', 'usr', 'usr 815633', 'usr', 'usb', 'usr 817908', 'usr', 'usr', 'usr', 'intel', 'toshiba', 'microsoft', 'ibm', 'sony', 'jebel ali duty free', 'congress', 'the securities exchange act', 'fda', 'the securities exchange act', 'the\\nsecurities act', 'gas inc .', 'mit', 'das', 'vi international exports ltd\\nst .', 'cyanamid angst knick', 'chateaux diego flo gagwriter', 'gillette', 'kodak', 'gillette', 'info / cohen', 'itra & v', 'abyssinia', 'el 0', 'rnd', 'rnd', 'rnd', 'rnd', 'rnd', 'rnd', 'riyadh bryn', 'cowbell apollonian chubby', 'mcgee mrs', 'ksign international inc .', 'ksige', ', inc .', 'iwc', 'mont blanc', 'bvgari', 'concord', 'lec', 'wheaton', 'wheaton', 'midas', 'western australia', 'radio hill', 'fox', 'radio hill', 'western australia', 'westonia resource breaks', 'brazil contracta', 'health & environment\\nmine', 'kaolin\\nmagnesium', 'pgm', 'johns', 'google', 'the securities exchange act', 'ford motor company', 'multicell technologies , inc .', 'usvqvkd gyxzc', 'al', 'zyban', 'ge', 'wei', 'microsoft', 'macromedia', 'gwenda', 'microsoft', '\\\\ windows \\\\ profileswindows', 'box pineville', 'bell cir', 'mbt sa mbysoi', 'kunynyi', 'un', 'nkh', 'gm', 'ge', 'ec', 'al', 'pwb', 'un', 'kla kndprscoa', 'ge', 'zj international exports ltd\\nst .', 'byte', 'vivian phoenix cromwellian imbecile hindmost', 'canada\\nclank\\nsideboard', 'super cheeap &', 'microsoft', 'microsoft', 'norton', 'microsoft', 'pinnacle systems', 'vmware', 'intel', 'toshiba', 'microsoft', 'ibm', 'sony', 'jebel ali duty free', 'congress', 'intel', 'toshiba', 'microsoft', 'ibm', 'sony', 'jebel ali duty free', 'congress', 'vgr', 'fda usa', 'meds onlinewe', 'macromedia', 'macromedia', 'bze international imports inc', 'baroque cosinehesitate', 'western union', 'grace', 'sec', 'microsoft', 'fda', 'apap w', 'adipex', 'ativan', 'valtrex', 'paliourg\\nmime - version', 'grebe grease greenery', 'xlmdiydgpkbp @ mymail', 'american first national\\n1911', 'the fight network inc', 'speedway motorsports , inc .', 'speedway corp .', 'isp', 'isp', 'isp', 'isp', 'sec', 'wurde wegen der', 'ihre', 'wysak', 'wgr', 'info / 92', 'info / 92', 'info / 92', 'info / 92', 'tradestar corp .', 'tradestar corp .', 'tradestar - corp', 'sec', 'the securities exchange act', 'mez', 'china mobile', 'sec', 'hrotti', 'intel', 'toshiba', 'microsoft', 'ibm', 'sony', 'jebel ali duty free', 'congress', 'addr', 'mzex', 'plo', 'hnpi byr', 'vec', 'han', 'iigp wypowf', 'leth', 'leth', 'leth', 'leth', 'leth', 'leth', 'leth', 'leth', 'leth', 'tetra tech , inc .', 'tetra', 'leth', 'leth', 'leth', 'leth', 'leth', 'leth', 'leth', 'rnd', 'rnd', 'rnd', 'rnd', 'rnd', 'info &', 'info / ps', 'dru & gs', 'npe', 'nomad international inc .', 'ndin', 'ndin', 'nomad\\ninternationa | inc .', 'dia', 'the yankee group', 'dia', 'nomad international inc .', 'nomad international inc .', 'ndin', 'ndin', 'citizensr bank']\n"
          ]
        }
      ],
      "source": [
        "# Lista per memorizzare le organizzazioni trovate\n",
        "list_org = []\n",
        "\n",
        "# Iterazione attraverso le frasi\n",
        "for elem in sentences_no_spam:\n",
        "    doc = nlp(elem)\n",
        "    for token in doc.ents:\n",
        "        if token.label_ == 'ORG':\n",
        "            #print(f\"{token.text} - {token.label_}\")\n",
        "            list_org.append(token.text)\n",
        "\n",
        "# Visualizzazione delle organizzazioni trovate\n",
        "print(\"\\nOrganizzazioni trovate:\")\n",
        "print(list_org)"
      ]
    }
  ],
  "metadata": {
    "kernelspec": {
      "display_name": "Python 3 (ipykernel)",
      "language": "python",
      "name": "python3"
    },
    "language_info": {
      "codemirror_mode": {
        "name": "ipython",
        "version": 3
      },
      "file_extension": ".py",
      "mimetype": "text/x-python",
      "name": "python",
      "nbconvert_exporter": "python",
      "pygments_lexer": "ipython3",
      "version": "3.11.7"
    },
    "colab": {
      "provenance": [],
      "toc_visible": true,
      "include_colab_link": true
    }
  },
  "nbformat": 4,
  "nbformat_minor": 5
}